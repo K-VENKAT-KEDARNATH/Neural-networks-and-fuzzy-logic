{
  "nbformat": 4,
  "nbformat_minor": 0,
  "metadata": {
    "colab": {
      "name": "2019A7PS0155H_nnfl_assignment_2.ipynb",
      "provenance": [],
      "collapsed_sections": []
    },
    "kernelspec": {
      "name": "python3",
      "display_name": "Python 3"
    },
    "language_info": {
      "name": "python"
    }
  },
  "cells": [
    {
      "cell_type": "code",
      "metadata": {
        "colab": {
          "base_uri": "https://localhost:8080/"
        },
        "id": "1h5efrz4F3_l",
        "outputId": "998cc176-99f6-4547-a124-9cf278d42a5b"
      },
      "source": [
        "from google.colab import drive\n",
        "drive.mount('/content/drive')"
      ],
      "execution_count": 1,
      "outputs": [
        {
          "output_type": "stream",
          "name": "stdout",
          "text": [
            "Mounted at /content/drive\n"
          ]
        }
      ]
    },
    {
      "cell_type": "code",
      "metadata": {
        "id": "QuQgI10SGwp-"
      },
      "source": [
        "import warnings\n",
        "warnings.filterwarnings('ignore')"
      ],
      "execution_count": 2,
      "outputs": []
    },
    {
      "cell_type": "markdown",
      "metadata": {
        "id": "sH91PU2nFs4J"
      },
      "source": [
        "Q1. Implement non-linear perceptron algorithm for the classification using Online Learning (Hebbian learning) algorithm. The dataset (data55.xlsx) contains 19 features and the last column is the output (class label). You can use hold-out cross-validation (70, 10, and 20%) for the selection of training, validation and test instances. Evaluate accuracy, sensitivity and specificity measures for the evaluation of test instances (Packages such as Scikitlearn, keras, tensorflow, pytorch etc. are not allowed)."
      ]
    },
    {
      "cell_type": "code",
      "metadata": {
        "id": "4kNxSeqm_x-v"
      },
      "source": [
        "import numpy as np\n",
        "import pandas as pd\n",
        "import math\n",
        "\n",
        "full_df=pd.read_excel('/content/drive/My Drive/nnfl_assignment_2_data/data55.xlsx',header=None,names=[\"A\",\"B\",\"C\",\"D\",\"E\",\"F\",\"G\",\"H\",\"I\",\"J\",\"K\",\"L\",\"M\",\"N\",\"O\",\"P\",\"Q\",\"R\",\"S\",\"class\"])\n",
        "\n",
        "full_df=full_df.values\n",
        "np.random.shuffle(full_df)\n",
        "\n",
        "x_full=full_df[:,0:19]\n",
        "y_full=full_df[:,19:20]\n",
        "\n",
        "x_norm=np.ones((x_full.shape[0],x_full.shape[1]+1))\n",
        "for i in range(x_full.shape[1]):\n",
        "  x_norm[:,i+1:i+2]=(x_full[:,i:i+1]-np.mean(x_full[:,i:i+1]))/np.std(x_full[:,i:i+1])"
      ],
      "execution_count": null,
      "outputs": []
    },
    {
      "cell_type": "code",
      "metadata": {
        "id": "NXwiAkPPEFhr"
      },
      "source": [
        "def divide_tr_va_te(x_norm,y_norm):\n",
        "  x_tr=x_norm[:math.floor(0.7*x_norm.shape[0])]\n",
        "  x_va=x_norm[math.floor(0.7*x_norm.shape[0]):math.floor(0.8*x_norm.shape[0])]\n",
        "  x_te=x_norm[math.floor(0.8*x_norm.shape[0]):]\n",
        "\n",
        "  y_tr=y_norm[:math.floor(0.7*y_norm.shape[0])]\n",
        "  y_va=y_norm[math.floor(0.7*y_norm.shape[0]):math.floor(0.8*y_norm.shape[0])]\n",
        "  y_te=y_norm[math.floor(0.8*y_norm.shape[0]):]\n",
        "  return x_tr,x_va,x_te,y_tr,y_va,y_te\n",
        "\n",
        "x_tr,x_va,x_te,y_tr,y_va,y_te=divide_tr_va_te(x_norm,y_full)"
      ],
      "execution_count": null,
      "outputs": []
    },
    {
      "cell_type": "code",
      "metadata": {
        "id": "lNGWi2NNEIFY"
      },
      "source": [
        "def sigmoid(x):\n",
        "  return 1/(1+np.exp(-x))\n",
        "\n",
        "def cost(y_pred,y):\n",
        "  j=(-1/len(y))*(np.sum((y*np.log(y_pred))+(1-y)*np.log(1-y_pred)))\n",
        "  return j\n",
        "\n",
        "def hebbian_learning(x,y,w,alpha,iter):\n",
        "  for t in range(iter):\n",
        "    h=x@w\n",
        "    for i in range(len(h)):\n",
        "      if h[i][0]>=0.5:\n",
        "        h[i][0]=1\n",
        "      else:\n",
        "        h[i][0]=0\n",
        "    for i in range(len(x)):\n",
        "      if h[i][0]!=y[i][0]:\n",
        "        w=w+alpha*y[i][0]*(x[i].T.reshape(w.shape))\n",
        "  return w"
      ],
      "execution_count": null,
      "outputs": []
    },
    {
      "cell_type": "code",
      "metadata": {
        "colab": {
          "base_uri": "https://localhost:8080/"
        },
        "id": "ov3wOgaqEW6Z",
        "outputId": "184015a7-c877-4624-98b4-898ee93868bf"
      },
      "source": [
        "alpha_arr=np.arange(0.0001,0.002,0.0001)\n",
        "costs=np.ones(len(alpha_arr))\n",
        "diff=np.zeros(len(alpha_arr))\n",
        "diff_min=float('inf')\n",
        "j_min=-1\n",
        "iters=1000\n",
        "for j in range(len(alpha_arr)):\n",
        "  w=np.zeros((x_tr.shape[1],1),dtype=float)\n",
        "  w=hebbian_learning(x_tr,y_tr,w,alpha_arr[j],iters)\n",
        "  y_pred=x_va@w\n",
        "  costs[j]=cost(y_pred,y_va)\n",
        "  for i in range(y_pred.shape[0]):\n",
        "        if(y_pred[i]>=0.5):\n",
        "          y_pred[i]=1\n",
        "        else: \n",
        "          y_pred[i]=0\n",
        "  A=abs(y_pred-y_va)\n",
        "  diff[j]=np.sum(A)\n",
        "  if(diff[j]<diff_min or (diff[j]==diff_min and costs[j]<costs[j_min])):\n",
        "    diff_min=diff[j]\n",
        "    j_min=j\n",
        "    w_min=w\n",
        "    alpha_min=alpha_arr[j]\n",
        "print('alpha_min is ',alpha_min)\n",
        "print('w_min is ',w_min)\n",
        "print('wrongly predicted in validation data are: ',diff_min)"
      ],
      "execution_count": null,
      "outputs": [
        {
          "output_type": "stream",
          "name": "stdout",
          "text": [
            "alpha_min is  0.0011\n",
            "w_min is  [[ 0.5599    ]\n",
            " [ 0.01333556]\n",
            " [-0.01233791]\n",
            " [ 0.00670877]\n",
            " [ 0.04157979]\n",
            " [ 0.00068234]\n",
            " [ 0.00220272]\n",
            " [-0.02407642]\n",
            " [-0.01781437]\n",
            " [ 0.02680029]\n",
            " [-0.00805154]\n",
            " [ 0.03876431]\n",
            " [ 0.02098085]\n",
            " [ 0.00356079]\n",
            " [ 0.00209537]\n",
            " [-0.01537252]\n",
            " [-0.02299316]\n",
            " [-0.01484566]\n",
            " [ 0.00387973]\n",
            " [ 0.05821261]]\n",
            "wrongly predicted in validation data are:  5.0\n"
          ]
        }
      ]
    },
    {
      "cell_type": "code",
      "metadata": {
        "colab": {
          "base_uri": "https://localhost:8080/"
        },
        "id": "tecynit4E4WM",
        "outputId": "aeec9d61-b8e9-42c7-a65e-af6dcc7a1613"
      },
      "source": [
        "def test_result(x_te,y_te,w):\n",
        "  y_pred=x_te@w\n",
        "  for i in range(len(y_pred)):\n",
        "    if(y_pred[i]>=0.5):\n",
        "      y_pred[i]=1\n",
        "    else:\n",
        "      y_pred[i]=0\n",
        "  \n",
        "  tn=0\n",
        "  fp=0\n",
        "  fn=0\n",
        "  tp=0\n",
        "  for i in range(len(y_pred)):\n",
        "    if y_pred[i]==1:\n",
        "      if y_te[i]==1:\n",
        "        tp+=1\n",
        "      else:\n",
        "        fp+=1\n",
        "    else:\n",
        "      if y_te[i]==1:\n",
        "        fn+=1\n",
        "      else:\n",
        "        tn+=1\n",
        "  print('Confusion matrix is')\n",
        "  print(f\"[[{tn}  {fp}]\")\n",
        "  print(f\" [{fn}  {tp}]]\")\n",
        "\n",
        "  accuracy=(tp+tn)/(len(y_te)) * 100\n",
        "  sen=tp/(tp+fn) * 100\n",
        "  spe=tn/(tn+fp) * 100\n",
        "  print('Accuracy is ',accuracy)\n",
        "  print('Sensitivity is ',sen)\n",
        "  print('Specificity is ',spe)\n",
        "\n",
        "test_result(x_te,y_te,w_min)"
      ],
      "execution_count": null,
      "outputs": [
        {
          "output_type": "stream",
          "name": "stdout",
          "text": [
            "Confusion matrix is\n",
            "[[13  9]\n",
            " [2  18]]\n",
            "Accuracy is  73.80952380952381\n",
            "Sensitivity is  90.0\n",
            "Specificity is  59.09090909090909\n"
          ]
        }
      ]
    },
    {
      "cell_type": "markdown",
      "metadata": {
        "id": "Y8vprHqEHh5x"
      },
      "source": [
        "Q2. Implement kernel perceptron algorithm for the classification task. The dataset (data55.xlsx) contains 19 features and the last column is the output (class label). You can use hold-out cross-validation (70, 10, and 20%) for the selection of training, validation and test instances. Evaluate accuracy, sensitivity and specificity measures for the evaluation of test instances. Evaluate the classification performance separately using linear, RBF, and polynomial kernels (Packages such as Scikitlearn, keras, tensorflow, pytorch etc. are not allowed)."
      ]
    },
    {
      "cell_type": "code",
      "metadata": {
        "id": "qD9Ze4joFFQ4"
      },
      "source": [
        "import numpy as np\n",
        "import pandas as pd\n",
        "import math\n",
        "\n",
        "full_df=pd.read_excel('/content/drive/My Drive/nnfl_assignment_2_data/data55.xlsx',header=None,names=[\"A\",\"B\",\"C\",\"D\",\"E\",\"F\",\"G\",\"H\",\"I\",\"J\",\"K\",\"L\",\"M\",\"N\",\"O\",\"P\",\"Q\",\"R\",\"S\",\"class\"])\n",
        "\n",
        "full_df=full_df.values\n",
        "np.random.shuffle(full_df)\n",
        "\n",
        "x_full=full_df[:,0:19]\n",
        "y_full=full_df[:,19:20]\n",
        "\n",
        "x_norm=np.ones((x_full.shape[0],x_full.shape[1]+1))\n",
        "for i in range(x_full.shape[1]):\n",
        "  x_norm[:,i+1:i+2]=(x_full[:,i:i+1]-np.mean(x_full[:,i:i+1]))/np.std(x_full[:,i:i+1])\n",
        "\n",
        "for i in range(len(y_full)):\n",
        "  if(y_full[i]==0):\n",
        "    y_full[i]=-1"
      ],
      "execution_count": null,
      "outputs": []
    },
    {
      "cell_type": "code",
      "metadata": {
        "id": "Ny9BjtIvhI25"
      },
      "source": [
        "def divide_tr_va_te(x_norm,y_norm):\n",
        "  x_tr=x_norm[:math.floor(0.7*x_norm.shape[0])]\n",
        "  x_va=x_norm[math.floor(0.7*x_norm.shape[0]):math.floor(0.8*x_norm.shape[0])]\n",
        "  x_te=x_norm[math.floor(0.8*x_norm.shape[0]):]\n",
        "\n",
        "  y_tr=y_norm[:math.floor(0.7*y_norm.shape[0])]\n",
        "  y_va=y_norm[math.floor(0.7*y_norm.shape[0]):math.floor(0.8*y_norm.shape[0])]\n",
        "  y_te=y_norm[math.floor(0.8*y_norm.shape[0]):]\n",
        "  return x_tr,x_va,x_te,y_tr,y_va,y_te\n",
        "\n",
        "x_tr,x_va,x_te,y_tr,y_va,y_te=divide_tr_va_te(x_norm,y_full)"
      ],
      "execution_count": null,
      "outputs": []
    },
    {
      "cell_type": "code",
      "metadata": {
        "id": "DjOkxvGGhiUG"
      },
      "source": [
        "def sigmoid(x):\n",
        "  return 1/(1+np.exp(-x))\n",
        "\n",
        "def kernel_linear(x_tr):\n",
        "  k=x_tr@x_tr.T\n",
        "  return k\n",
        "\n",
        "def kernel_func_linear(x,z):\n",
        "  return np.dot(x,z)\n",
        "\n",
        "def kernel_perceptron(x_tr,y_tr,k,iter):\n",
        "  delta=np.zeros((x_tr.shape[0],1))\n",
        "  h=np.zeros((len(x_tr),1))\n",
        "  for t in range(iter):\n",
        "    for i in range(len(x_tr)):\n",
        "      for l in range(len(x_tr)):\n",
        "        h[i]=h[i]+(delta[l]*y_tr[l]*k[l][i])\n",
        "      if h[i]>=0:\n",
        "        h[i]=1\n",
        "      else:\n",
        "        h[i]=-1\n",
        "      if h[i]!=y_tr[i]:\n",
        "        delta[i]+=1\n",
        "  return delta\n",
        "\n",
        "def dist(x,z):\n",
        "  d=np.sum((x-z)**2)\n",
        "  return math.sqrt(d)\n",
        "\n",
        "def kernel_rbf(x_tr):\n",
        "  sigma=1\n",
        "  for i in range(len(x_tr)):\n",
        "    for j in range(len(x_tr)):\n",
        "      k[i][j]=np.exp(-0.5*dist(x_tr[i],x_tr[j])/(sigma**2))\n",
        "  return k\n",
        "\n",
        "def kernel_func_rbf(x,z,sigma):\n",
        "  return np.exp(-0.5*dist(x,z)/(sigma**2))\n",
        "\n",
        "def kernel_poly(degree):\n",
        "  k=(x_tr@x_tr.T)**degree\n",
        "  return k\n",
        "\n",
        "def kernel_func_poly(x,z,degree):\n",
        "  return np.dot(x,z)**degree"
      ],
      "execution_count": null,
      "outputs": []
    },
    {
      "cell_type": "code",
      "metadata": {
        "id": "0RMtiOToiHdo"
      },
      "source": [
        "def predict_linear(delta,x_tr,y_tr,x_va):\n",
        "  y_pred=np.zeros((len(x_va),y_te.shape[1]))\n",
        "  for v in range(len(x_va)):\n",
        "    for l in range(len(x_tr)):\n",
        "      y_pred[v]+=delta[l]*y_tr[l]*kernel_func_linear(x_va[v],x_tr[l])\n",
        "  return y_pred\n",
        "\n",
        "def predict_rbf(delta,x_tr,y_tr,x_va):\n",
        "  y_pred=np.zeros((len(x_va),y_te.shape[1]))\n",
        "  for v in range(len(x_va)):\n",
        "    for l in range(len(x_tr)):\n",
        "      y_pred[v]+=delta[l]*y_tr[l]*kernel_func_rbf(x_va[v],x_tr[l],sigma=1)\n",
        "  return y_pred\n",
        "\n",
        "def predict_poly(delta,x_tr,y_tr,x_va,degree):\n",
        "  y_pred=np.zeros((len(x_va),y_te.shape[1]))\n",
        "  for v in range(len(x_va)):\n",
        "    for l in range(len(x_tr)):\n",
        "      y_pred[v]+=delta[l]*y_tr[l]*kernel_func_poly(x_va[v],x_tr[l],degree)\n",
        "  return y_pred"
      ],
      "execution_count": null,
      "outputs": []
    },
    {
      "cell_type": "code",
      "metadata": {
        "id": "-UJxuaV6i5yn"
      },
      "source": [
        "def test_result(y_pred,y_te):\n",
        "  for i in range(len(y_pred)):  \n",
        "    if(y_pred[i]>=0):\n",
        "      y_pred[i]=1\n",
        "    else:\n",
        "      y_pred[i]=-1\n",
        "\n",
        "  tn=0\n",
        "  fp=0\n",
        "  fn=0\n",
        "  tp=0\n",
        "  for i in range(len(y_pred)):\n",
        "    if y_pred[i]==1:\n",
        "      if y_te[i]==1:\n",
        "        tp+=1\n",
        "      else:\n",
        "        fp+=1\n",
        "    else:\n",
        "      if y_te[i]==1:\n",
        "        fn+=1\n",
        "      else:\n",
        "        tn+=1\n",
        "\n",
        "  print('Confusion matrix is')\n",
        "  print(f\"[[{tn}  {fp}]\")\n",
        "  print(f\" [{fn}  {tp}]]\")\n",
        "\n",
        "  accuracy=(tp+tn)/(len(y_te)) * 100\n",
        "  sen=tp/(tp+fn) * 100\n",
        "  spe=tn/(tn+fp) * 100\n",
        "  print('Accuracy is ',accuracy)\n",
        "  print('Sensitivity is ',sen)\n",
        "  print('Specificity is ',spe)\n",
        "  return accuracy,sen,spe"
      ],
      "execution_count": null,
      "outputs": []
    },
    {
      "cell_type": "code",
      "metadata": {
        "colab": {
          "base_uri": "https://localhost:8080/"
        },
        "id": "7cCMKZWsi-uq",
        "outputId": "f820123f-21a6-4900-d44f-6a87461b028a"
      },
      "source": [
        "iter=500\n",
        "\n",
        "k=kernel_linear(x_tr)\n",
        "delta=kernel_perceptron(x_tr,y_tr,k,iter)\n",
        "print('---For validation data---')\n",
        "y_pred_va=predict_linear(delta,x_tr,y_tr,x_va)\n",
        "test_result(y_pred_va,y_va)\n",
        "print('---For test data---')\n",
        "y_pred=predict_linear(delta,x_tr,y_tr,x_te)\n",
        "test_result(y_pred,y_te)"
      ],
      "execution_count": null,
      "outputs": [
        {
          "output_type": "stream",
          "name": "stdout",
          "text": [
            "---For validation data---\n",
            "Confusion matrix is\n",
            "[[5  5]\n",
            " [1  10]]\n",
            "Accuracy is  71.42857142857143\n",
            "Sensitivity is  90.9090909090909\n",
            "Specificity is  50.0\n",
            "---For test data---\n",
            "Confusion matrix is\n",
            "[[12  4]\n",
            " [9  17]]\n",
            "Accuracy is  69.04761904761905\n",
            "Sensitivity is  65.38461538461539\n",
            "Specificity is  75.0\n"
          ]
        },
        {
          "output_type": "execute_result",
          "data": {
            "text/plain": [
              "(69.04761904761905, 65.38461538461539, 75.0)"
            ]
          },
          "metadata": {},
          "execution_count": 33
        }
      ]
    },
    {
      "cell_type": "code",
      "metadata": {
        "colab": {
          "base_uri": "https://localhost:8080/"
        },
        "id": "61cBxJhkjTdx",
        "outputId": "192616b6-cfde-464e-e6ae-ac1457f57690"
      },
      "source": [
        "iter=500\n",
        "\n",
        "k=kernel_rbf(x_tr)\n",
        "delta=kernel_perceptron(x_tr,y_tr,k,iter)\n",
        "print('---For validation data---')\n",
        "y_pred_va=predict_rbf(delta,x_tr,y_tr,x_va)\n",
        "test_result(y_pred_va,y_va)\n",
        "print('---For test data---')\n",
        "y_pred=predict_rbf(delta,x_tr,y_tr,x_te)\n",
        "test_result(y_pred,y_te)"
      ],
      "execution_count": null,
      "outputs": [
        {
          "output_type": "stream",
          "name": "stdout",
          "text": [
            "---For validation data---\n",
            "Confusion matrix is\n",
            "[[6  4]\n",
            " [1  10]]\n",
            "Accuracy is  76.19047619047619\n",
            "Sensitivity is  90.9090909090909\n",
            "Specificity is  60.0\n",
            "---For test data---\n",
            "Confusion matrix is\n",
            "[[7  9]\n",
            " [7  19]]\n",
            "Accuracy is  61.904761904761905\n",
            "Sensitivity is  73.07692307692307\n",
            "Specificity is  43.75\n"
          ]
        }
      ]
    },
    {
      "cell_type": "code",
      "metadata": {
        "colab": {
          "base_uri": "https://localhost:8080/"
        },
        "id": "npTLKdv0laTD",
        "outputId": "b54e4192-5e40-4869-a2c9-6716521d2e5a"
      },
      "source": [
        "degree_arr=[3,4,5,6,7,9]\n",
        "val_acc=[]\n",
        "val_sen=[]\n",
        "val_spe=[]\n",
        "test_acc=[]\n",
        "test_sen=[]\n",
        "test_spe=[]\n",
        "\n",
        "for i in range(len(degree_arr)):\n",
        "  deg=degree_arr[i]\n",
        "  print(f'For degree {deg}--------------------')\n",
        "  k=kernel_poly(degree=deg)\n",
        "  delta=kernel_perceptron(x_tr,y_tr,k,iter)\n",
        "  print('---For validation data---')\n",
        "  y_pred_va=predict_poly(delta,x_tr,y_tr,x_va,degree=deg)\n",
        "  accuracy,sen,spe=test_result(y_pred_va,y_va)\n",
        "  val_acc.append(accuracy)\n",
        "  val_sen.append(sen)\n",
        "  val_spe.append(spe)\n",
        "\n",
        "  print('---For test data---')\n",
        "  y_pred=predict_poly(delta,x_tr,y_tr,x_te,degree=deg)\n",
        "  accuracy,sen,spe=test_result(y_pred,y_te)\n",
        "  test_acc.append(accuracy)\n",
        "  test_sen.append(sen)\n",
        "  test_spe.append(spe)"
      ],
      "execution_count": null,
      "outputs": [
        {
          "output_type": "stream",
          "name": "stdout",
          "text": [
            "For degree 3--------------------\n",
            "---For validation data---\n",
            "Confusion matrix is\n",
            "[[6  4]\n",
            " [1  10]]\n",
            "Accuracy is  76.19047619047619\n",
            "Sensitivity is  90.9090909090909\n",
            "Specificity is  60.0\n",
            "---For test data---\n",
            "Confusion matrix is\n",
            "[[11  5]\n",
            " [10  16]]\n",
            "Accuracy is  64.28571428571429\n",
            "Sensitivity is  61.53846153846154\n",
            "Specificity is  68.75\n",
            "For degree 4--------------------\n",
            "---For validation data---\n",
            "Confusion matrix is\n",
            "[[5  5]\n",
            " [3  8]]\n",
            "Accuracy is  61.904761904761905\n",
            "Sensitivity is  72.72727272727273\n",
            "Specificity is  50.0\n",
            "---For test data---\n",
            "Confusion matrix is\n",
            "[[11  5]\n",
            " [7  19]]\n",
            "Accuracy is  71.42857142857143\n",
            "Sensitivity is  73.07692307692307\n",
            "Specificity is  68.75\n",
            "For degree 5--------------------\n",
            "---For validation data---\n",
            "Confusion matrix is\n",
            "[[4  6]\n",
            " [3  8]]\n",
            "Accuracy is  57.14285714285714\n",
            "Sensitivity is  72.72727272727273\n",
            "Specificity is  40.0\n",
            "---For test data---\n",
            "Confusion matrix is\n",
            "[[12  4]\n",
            " [10  16]]\n",
            "Accuracy is  66.66666666666666\n",
            "Sensitivity is  61.53846153846154\n",
            "Specificity is  75.0\n",
            "For degree 6--------------------\n",
            "---For validation data---\n",
            "Confusion matrix is\n",
            "[[6  4]\n",
            " [5  6]]\n",
            "Accuracy is  57.14285714285714\n",
            "Sensitivity is  54.54545454545454\n",
            "Specificity is  60.0\n",
            "---For test data---\n",
            "Confusion matrix is\n",
            "[[13  3]\n",
            " [11  15]]\n",
            "Accuracy is  66.66666666666666\n",
            "Sensitivity is  57.692307692307686\n",
            "Specificity is  81.25\n",
            "For degree 7--------------------\n",
            "---For validation data---\n",
            "Confusion matrix is\n",
            "[[4  6]\n",
            " [4  7]]\n",
            "Accuracy is  52.38095238095239\n",
            "Sensitivity is  63.63636363636363\n",
            "Specificity is  40.0\n",
            "---For test data---\n",
            "Confusion matrix is\n",
            "[[12  4]\n",
            " [11  15]]\n",
            "Accuracy is  64.28571428571429\n",
            "Sensitivity is  57.692307692307686\n",
            "Specificity is  75.0\n",
            "For degree 9--------------------\n",
            "---For validation data---\n",
            "Confusion matrix is\n",
            "[[5  5]\n",
            " [4  7]]\n",
            "Accuracy is  57.14285714285714\n",
            "Sensitivity is  63.63636363636363\n",
            "Specificity is  50.0\n",
            "---For test data---\n",
            "Confusion matrix is\n",
            "[[12  4]\n",
            " [12  14]]\n",
            "Accuracy is  61.904761904761905\n",
            "Sensitivity is  53.84615384615385\n",
            "Specificity is  75.0\n"
          ]
        }
      ]
    },
    {
      "cell_type": "code",
      "metadata": {
        "colab": {
          "base_uri": "https://localhost:8080/"
        },
        "id": "-OvPozmVmAr7",
        "outputId": "293eef71-3a29-4977-983c-f1a408191c0f"
      },
      "source": [
        "print('degree   validation accuracy   test accuracy')\n",
        "for i in range(len(degree_arr)):\n",
        "  deg=degree_arr[i]\n",
        "  print(f'{deg}        {val_acc[i]}      {test_acc[i]}')"
      ],
      "execution_count": null,
      "outputs": [
        {
          "output_type": "stream",
          "name": "stdout",
          "text": [
            "degree   validation accuracy   test accuracy\n",
            "3        76.19047619047619      64.28571428571429\n",
            "4        61.904761904761905      71.42857142857143\n",
            "5        57.14285714285714      66.66666666666666\n",
            "6        57.14285714285714      66.66666666666666\n",
            "7        52.38095238095239      64.28571428571429\n",
            "9        57.14285714285714      61.904761904761905\n"
          ]
        }
      ]
    },
    {
      "cell_type": "markdown",
      "metadata": {
        "id": "NRk1PN4RsIYi"
      },
      "source": [
        "Q3. The dataset (data5.xlsx) contains 7 features and the last column is the output (class labels). Design a multilayer perceptron based neural network (two hidden layers) for the classification. You can use both holdout (70, 10, and 20%) and 5-fold cross-validation approaches for evaluating the performance of the classifier (individual accuracy and overall accuracy). You can select the number of hidden neurons of each hidden layer and other MLP parameters using grid-search method. (Packages such as Scikitlearn, keras, tensorflow, pytorch etc. are not allowed)."
      ]
    },
    {
      "cell_type": "code",
      "metadata": {
        "id": "JBwiOX7zovLf"
      },
      "source": [
        "import numpy as np\n",
        "import pandas as pd\n",
        "import math\n",
        "\n",
        "full_df=pd.read_excel('/content/drive/My Drive/nnfl_assignment_2_data/data5.xlsx',header=None,names=[\"A\",\"B\",\"C\",\"D\",\"E\",\"F\",\"G\",\"class\"])\n",
        "\n",
        "full_df=full_df.values\n",
        "np.random.shuffle(full_df)\n",
        "\n",
        "x_full=full_df[:,0:7]\n",
        "y_full=full_df[:,7:8]\n",
        "\n",
        "x_norm=np.ones((x_full.shape[0],x_full.shape[1]+1))\n",
        "for i in range(x_full.shape[1]):\n",
        "  x_norm[:,i+1:i+2]=(x_full[:,i:i+1]-np.mean(x_full[:,i:i+1]))/np.std(x_full[:,i:i+1])\n",
        "\n",
        "y_norm=np.zeros((len(y_full),3))\n",
        "\n",
        "for i in range(len(y_full)):\n",
        "  if y_full[i][0]==1:\n",
        "    y_norm[i][0]=1\n",
        "  elif y_full[i][0]==2:\n",
        "    y_norm[i][1]=1\n",
        "  elif y_full[i][0]==3:\n",
        "    y_norm[i][2]=1"
      ],
      "execution_count": null,
      "outputs": []
    },
    {
      "cell_type": "code",
      "metadata": {
        "id": "-W9tMqCwsKQz"
      },
      "source": [
        "def divide_tr_va_te(x_norm,y_norm):\n",
        "  x_tr=x_norm[:math.floor(0.7*x_norm.shape[0])]\n",
        "  x_va=x_norm[math.floor(0.7*x_norm.shape[0]):math.floor(0.8*x_norm.shape[0])]\n",
        "  x_te=x_norm[math.floor(0.8*x_norm.shape[0]):]\n",
        "\n",
        "  y_tr=y_norm[:math.floor(0.7*y_norm.shape[0])]\n",
        "  y_va=y_norm[math.floor(0.7*y_norm.shape[0]):math.floor(0.8*y_norm.shape[0])]\n",
        "  y_te=y_norm[math.floor(0.8*y_norm.shape[0]):]\n",
        "  return x_tr,x_va,x_te,y_tr,y_va,y_te\n",
        "\n",
        "x_tr,x_va,x_te,y_tr,y_va,y_te=divide_tr_va_te(x_norm,y_norm)"
      ],
      "execution_count": null,
      "outputs": []
    },
    {
      "cell_type": "code",
      "metadata": {
        "id": "NEMWgHAwsre7"
      },
      "source": [
        "def sigmoid(x):\n",
        "  return 1/(1+np.exp(-x))\n",
        "\n",
        "def fpa(x,y,wx,wy):\n",
        "  v=x@wx\n",
        "  z=sigmoid(v)\n",
        "  o=np.ones((len(z),1))\n",
        "  s=np.hstack((o,z))\n",
        "  g=s@wy\n",
        "  pred=sigmoid(g)\n",
        "  j=np.mean(np.mean((pred-y)**2,axis=1))\n",
        "  return pred,s,j\n",
        "\n",
        "def bpa(x,y,wx,wy,pred,s,alpha):\n",
        "  df=np.multiply(pred,(1-pred))\n",
        "  dgy=np.multiply(df,(pred-y))\n",
        "  dw2=alpha*(s.T@dgy)\n",
        "  wy=wy-dw2\n",
        "  df=np.multiply(s,(1-s))\n",
        "  dgx=np.multiply(df,(dgy@wy.T))\n",
        "  dwx=alpha*(x.T@dgx)\n",
        "  wx=wx-dwx[:,1:]\n",
        "  return wx,wy\n",
        "\n",
        "def mlp(x,y,hidden,iter,alpha):\n",
        "  wx=np.zeros((x.shape[1],hidden))\n",
        "  wy=np.zeros((hidden+1,3))\n",
        "  j_his=np.zeros((iter,1))\n",
        "  for t in range(iter):\n",
        "    pred,s,j=fpa(x,y,wx,wy)\n",
        "    wx,wy=bpa(x,y,wx,wy,pred,s,alpha)\n",
        "    j_his[t]=j\n",
        "  return wx,wy,j_his\n",
        "\n",
        "def test_result(x_te,y_te,wx,wy):\n",
        "  pred,s,j=fpa(x_te,y_te,wx,wy)\n",
        "  temp=pred\n",
        "  for i in range(len(pred)):\n",
        "    for j in range(pred.shape[1]):\n",
        "      if(pred[i][j]<0.5):\n",
        "        pred[i][j]=0\n",
        "      else:\n",
        "        pred[i][j]=1\n",
        "\n",
        "  y_output=np.zeros((len(y_te),1))\n",
        "  y_output_actual=np.zeros((len(y_te),1))\n",
        "\n",
        "  for i in range(len(y_te)):\n",
        "    y_output[i]=np.argmax(pred[i])+1\n",
        "    y_output_actual[i]=np.argmax(y_te[i])+1\n",
        "\n",
        "  confusion_matrix=pd.crosstab(y_output_actual.flatten(),y_output.flatten())\n",
        "  confusion_matrix=np.asarray(confusion_matrix)\n",
        "  print(\"Confusion matrix is \")\n",
        "  print(confusion_matrix)\n",
        "  acc=(confusion_matrix[0][0]+confusion_matrix[1][1]+confusion_matrix[2][2])/len(x_te)*100\n",
        "  print(\"Overall accuracy is \",acc)\n",
        "  print(\"accuracy of class 1 is \",confusion_matrix[0][0]/(confusion_matrix[0][0]+confusion_matrix[0][1]+confusion_matrix[0][2])*100)\n",
        "  print(\"accuracy of class 2 is \",confusion_matrix[1][1]/(confusion_matrix[1][0]+confusion_matrix[1][1]+confusion_matrix[1][2])*100)\n",
        "  print(\"accuracy of class 3 is \",confusion_matrix[2][2]/(confusion_matrix[2][0]+confusion_matrix[2][1]+confusion_matrix[2][2])*100)\n",
        "\n",
        "  return acc"
      ],
      "execution_count": null,
      "outputs": []
    },
    {
      "cell_type": "code",
      "metadata": {
        "id": "yWzm74IivJ7D"
      },
      "source": [
        "alpha_arr=np.arange(0.01,0.31,0.01)\n",
        "alpha_cap_arr=np.arange(2,11,1)\n",
        "\n",
        "j_va_arr=np.zeros((len(alpha_arr),len(alpha_cap_arr)))\n",
        "\n",
        "wx_arr=[]\n",
        "wy_arr=[]\n",
        "\n",
        "iter=500\n",
        "\n",
        "for i in range(len(alpha_arr)):\n",
        "  for j in range(len(alpha_cap_arr)):\n",
        "    alpha=alpha_arr[i]\n",
        "    alpha_cap=alpha_cap_arr[j]\n",
        "    hidden=(int)(len(x_tr)/(alpha_cap*(x_tr.shape[1]+3)))\n",
        "    wx,wy,j_his=mlp(x_tr,y_tr,hidden,iter,alpha)\n",
        "\n",
        "    pred_va,s_va,j_va=fpa(x_va,y_va,wx,wy)\n",
        "    j_va_arr[i][j]=j_va\n",
        "\n",
        "    wx_arr.append(wx)\n",
        "    wy_arr.append(wy)\n",
        "\n",
        "result = np.where(j_va_arr == np.amin(j_va_arr))\n",
        "listOfCordinates = list(zip(result[0], result[1]))\n",
        "index=listOfCordinates[0]\n",
        "wx_min=wx_arr[index[0]*len(alpha_cap_arr) + index[1]]\n",
        "wy_min=wy_arr[index[0]*len(alpha_cap_arr) + index[1]]"
      ],
      "execution_count": null,
      "outputs": []
    },
    {
      "cell_type": "code",
      "metadata": {
        "colab": {
          "base_uri": "https://localhost:8080/"
        },
        "id": "gSAxNxb4vWcp",
        "outputId": "414b2dd3-97c1-40c3-dfcd-38c994eea975"
      },
      "source": [
        "test_result(x_te,y_te,wx_min,wy_min)"
      ],
      "execution_count": null,
      "outputs": [
        {
          "output_type": "stream",
          "name": "stdout",
          "text": [
            "Confusion matrix is \n",
            "[[13  0  0]\n",
            " [ 0 15  0]\n",
            " [ 2  0 12]]\n",
            "Overall accuracy is  95.23809523809523\n",
            "accuracy of class 1 is  100.0\n",
            "accuracy of class 2 is  100.0\n",
            "accuracy of class 3 is  85.71428571428571\n"
          ]
        },
        {
          "output_type": "execute_result",
          "data": {
            "text/plain": [
              "95.23809523809523"
            ]
          },
          "metadata": {},
          "execution_count": 43
        }
      ]
    },
    {
      "cell_type": "code",
      "metadata": {
        "id": "kMVVSIhwvbtt"
      },
      "source": [
        "def divide_tr_te_k_fold(x_norm,y_norm,k):\n",
        "  batch_size=math.floor(len(x_norm)/k)\n",
        "  x_norm_k=[]\n",
        "  y_norm_k=[]\n",
        "  start=0\n",
        "  end=batch_size\n",
        "  for t in range(5):\n",
        "    if(t==4):\n",
        "      x_norm_k.append(x_norm[start:])\n",
        "      y_norm_k.append(y_norm[start:])\n",
        "    else:\n",
        "      x_norm_k.append(x_norm[start:end])\n",
        "      y_norm_k.append(y_norm[start:end])\n",
        "    start=end\n",
        "    end=end+batch_size\n",
        "  return x_norm_k,y_norm_k\n",
        "  \n",
        "x_norm_k,y_norm_k=divide_tr_te_k_fold(x_norm,y_norm,5)"
      ],
      "execution_count": null,
      "outputs": []
    },
    {
      "cell_type": "code",
      "metadata": {
        "id": "1P4uk1r3viL2"
      },
      "source": [
        "def calculate(x_tr,y_tr,x_va,y_va,x_te,y_te):\n",
        "  alpha_arr=np.arange(0.01,0.21,0.01)\n",
        "  alpha_cap_arr=np.arange(2,11,1)\n",
        "\n",
        "  j_va_arr=np.zeros((len(alpha_arr),len(alpha_cap_arr)))\n",
        "\n",
        "  wx_arr=[]\n",
        "  wy_arr=[]\n",
        "\n",
        "\n",
        "  for i in range(len(alpha_arr)):\n",
        "    for j in range(len(alpha_cap_arr)):\n",
        "      alpha=alpha_arr[i]\n",
        "      alpha_cap=alpha_cap_arr[j]\n",
        "      hidden=(int)(len(x_tr)/(alpha_cap*(x_tr.shape[1]+3)))\n",
        "      wx,wy,j_his=mlp(x_tr,y_tr,hidden,iter,alpha)\n",
        "\n",
        "      pred_va,s_va,j_va=fpa(x_va,y_va,wx,wy)\n",
        "      j_va_arr[i][j]=j_va\n",
        "\n",
        "      wx_arr.append(wx)\n",
        "      wy_arr.append(wy)\n",
        "\n",
        "  result = np.where(j_va_arr == np.amin(j_va_arr))\n",
        "  listOfCordinates = list(zip(result[0], result[1]))\n",
        "  index=listOfCordinates[0]\n",
        "  hidden=(int)(len(x_tr)/(alpha_cap_arr[index[1]]*(x_tr.shape[1]+3)))\n",
        "  print(f\"alpha is {alpha_arr[index[0]]}, hidden neurons are {hidden}\")\n",
        "  wx_min=wx_arr[index[0]*len(alpha_cap_arr)+index[1]]\n",
        "  wy_min=wy_arr[index[0]*len(alpha_cap_arr)+index[1]]\n",
        "\n",
        "  return test_result(x_te,y_te,wx_min,wy_min)"
      ],
      "execution_count": null,
      "outputs": []
    },
    {
      "cell_type": "code",
      "metadata": {
        "colab": {
          "base_uri": "https://localhost:8080/"
        },
        "id": "jzuOQZUFvqjg",
        "outputId": "d550aae1-b6f6-4be9-baaa-aac01b27ae08"
      },
      "source": [
        "acc_arr=[]\n",
        "for z in range(len(x_norm_k)):\n",
        "  x_te=x_norm_k[z]\n",
        "  y_te=y_norm_k[z]\n",
        "  x_tr=np.ndarray((0,x_norm_k[z].shape[1]))\n",
        "  y_tr=np.ndarray((0,y_norm_k[z].shape[1]))\n",
        "  for q in range(len(x_norm_k)):\n",
        "    if (z==q):\n",
        "      continue\n",
        "    x_tr=np.concatenate((x_tr,x_norm_k[q]),axis=0)\n",
        "    y_tr=np.concatenate((y_tr,y_norm_k[q]),axis=0)\n",
        "\n",
        "  x_va=x_tr[math.floor(0.9*x_tr.shape[0]):]\n",
        "  y_va=y_tr[math.floor(0.9*y_tr.shape[0]):]\n",
        "\n",
        "  x_tr=x_tr[:math.floor(0.9*x_tr.shape[0])]\n",
        "  y_tr=y_tr[:math.floor(0.9*y_tr.shape[0])]\n",
        "\n",
        "  accuracy=calculate(x_tr,y_tr,x_va,y_va,x_te,y_te)\n",
        "  acc_arr.append(accuracy)\n",
        "print('---------------')\n",
        "print('Average accuracy is ',sum(acc_arr)/len(acc_arr))\n",
        "print('---------------')"
      ],
      "execution_count": null,
      "outputs": [
        {
          "output_type": "stream",
          "name": "stdout",
          "text": [
            "alpha is 0.18000000000000002, hidden neurons are 6\n",
            "Confusion matrix is \n",
            "[[ 9  0  0]\n",
            " [ 1 15  0]\n",
            " [ 1  0 16]]\n",
            "Overall accuracy is  95.23809523809523\n",
            "accuracy of class 1 is  100.0\n",
            "accuracy of class 2 is  93.75\n",
            "accuracy of class 3 is  94.11764705882352\n",
            "alpha is 0.08, hidden neurons are 6\n",
            "Confusion matrix is \n",
            "[[13  0  2]\n",
            " [ 1 14  0]\n",
            " [ 0  0 12]]\n",
            "Overall accuracy is  92.85714285714286\n",
            "accuracy of class 1 is  86.66666666666667\n",
            "accuracy of class 2 is  93.33333333333333\n",
            "accuracy of class 3 is  100.0\n",
            "alpha is 0.14, hidden neurons are 6\n",
            "Confusion matrix is \n",
            "[[14  0  0]\n",
            " [ 1 13  0]\n",
            " [ 0  0 14]]\n",
            "Overall accuracy is  97.61904761904762\n",
            "accuracy of class 1 is  100.0\n",
            "accuracy of class 2 is  92.85714285714286\n",
            "accuracy of class 3 is  100.0\n",
            "alpha is 0.15000000000000002, hidden neurons are 6\n",
            "Confusion matrix is \n",
            "[[18  1  0]\n",
            " [ 0 10  0]\n",
            " [ 2  0 11]]\n",
            "Overall accuracy is  92.85714285714286\n",
            "accuracy of class 1 is  94.73684210526315\n",
            "accuracy of class 2 is  100.0\n",
            "accuracy of class 3 is  84.61538461538461\n",
            "alpha is 0.060000000000000005, hidden neurons are 6\n",
            "Confusion matrix is \n",
            "[[13  0  0]\n",
            " [ 0 15  0]\n",
            " [ 2  0 12]]\n",
            "Overall accuracy is  95.23809523809523\n",
            "accuracy of class 1 is  100.0\n",
            "accuracy of class 2 is  100.0\n",
            "accuracy of class 3 is  85.71428571428571\n",
            "---------------\n",
            "Average accuracy is  94.76190476190476\n",
            "---------------\n"
          ]
        }
      ]
    },
    {
      "cell_type": "markdown",
      "metadata": {
        "id": "ovB4qWJxwV2C"
      },
      "source": [
        "Q4. Implement the radial basis function neural network (RBFNN) for the classification problem. You can use Gaussian, multiquadric and linear kernel functions for the implementation. You can use both holdout (70, 10, and 20%) and 5-fold cross-validation approaches for evaluating the performance of the classifier. The classification performance must be evaluated using individual accuracy and overall accuracy measures. The dataset (data5.xlsx) contains 7 features and the last column is the output (class labels). (Packages such as Scikitlearn, keras, tensorflow, pytorch etc. are not allowed)."
      ]
    },
    {
      "cell_type": "code",
      "metadata": {
        "id": "p6XkQ5K3wCMN"
      },
      "source": [
        "import numpy as np\n",
        "import pandas as pd\n",
        "import math\n",
        "\n",
        "full_df=pd.read_excel('/content/drive/My Drive/nnfl_assignment_2_data/data5.xlsx',header=None,names=[\"A\",\"B\",\"C\",\"D\",\"E\",\"F\",\"G\",\"class\"])\n",
        "\n",
        "full_df=full_df.values\n",
        "np.random.shuffle(full_df)\n",
        "\n",
        "x_full=full_df[:,0:7]\n",
        "y_full=full_df[:,7:8]\n",
        "\n",
        "x_norm=np.ones((x_full.shape[0],x_full.shape[1]+1))\n",
        "for i in range(x_full.shape[1]):\n",
        "  x_norm[:,i+1:i+2]=(x_full[:,i:i+1]-np.mean(x_full[:,i:i+1]))/np.std(x_full[:,i:i+1])\n",
        "\n",
        "y_norm=np.zeros((len(y_full),3))\n",
        "\n",
        "for i in range(len(y_full)):\n",
        "  if y_full[i][0]==1:\n",
        "    y_norm[i][0]=1\n",
        "  elif y_full[i][0]==2:\n",
        "    y_norm[i][1]=1\n",
        "  elif y_full[i][0]==3:\n",
        "    y_norm[i][2]=1"
      ],
      "execution_count": null,
      "outputs": []
    },
    {
      "cell_type": "code",
      "metadata": {
        "id": "sj9ZNfOAxGku"
      },
      "source": [
        "def divide_tr_va_te(x_norm,y_norm):\n",
        "  x_tr=x_norm[:math.floor(0.7*x_norm.shape[0])]\n",
        "  x_va=x_norm[math.floor(0.7*x_norm.shape[0]):math.floor(0.8*x_norm.shape[0])]\n",
        "  x_te=x_norm[math.floor(0.8*x_norm.shape[0]):]\n",
        "\n",
        "  y_tr=y_norm[:math.floor(0.7*y_norm.shape[0])]\n",
        "  y_va=y_norm[math.floor(0.7*y_norm.shape[0]):math.floor(0.8*y_norm.shape[0])]\n",
        "  y_te=y_norm[math.floor(0.8*y_norm.shape[0]):]\n",
        "  return x_tr,x_va,x_te,y_tr,y_va,y_te\n",
        "\n",
        "x_tr,x_va,x_te,y_tr,y_va,y_te=divide_tr_va_te(x_norm,y_norm)"
      ],
      "execution_count": null,
      "outputs": []
    },
    {
      "cell_type": "code",
      "metadata": {
        "id": "ZL8HUCHXxLpq"
      },
      "source": [
        "def norm(x):\n",
        "  return math.sqrt(np.sum(x**2))"
      ],
      "execution_count": null,
      "outputs": []
    },
    {
      "cell_type": "code",
      "metadata": {
        "id": "QtV2yrm3xM08"
      },
      "source": [
        "def k_means(k,full):\n",
        "  l=np.ones((len(full),1))\n",
        "  for i in range(len(full)):\n",
        "    l[i][0]=np.random.randint(1,k+1)\n",
        "\n",
        "  def dist(x,u):\n",
        "    d=0\n",
        "    for j in range(len(x)):\n",
        "      d=d+((x[j]-u[0][j])**2)\n",
        "    return math.sqrt(d)\n",
        "\n",
        "  def update(l,full):\n",
        "    u=[]\n",
        "    groups=[]\n",
        "    for i in range(k):\n",
        "      groups.append(np.ndarray((0,full.shape[1])))\n",
        "    for index in range(len(full)):\n",
        "      groups[int(l[index][0])-1]=np.concatenate((groups[int(l[index][0])-1],full[index].reshape(1,full.shape[1])),axis=0)\n",
        "    for i in range(k):\n",
        "      u_temp=np.zeros((1,full.shape[1]))\n",
        "      group=groups[i]\n",
        "      if len(group)==0:\n",
        "        u.append(u_temp)\n",
        "        continue\n",
        "      for j in range(full.shape[1]):\n",
        "        u_temp[0][j]=np.mean(group[:,j:j+1])\n",
        "      u.append(u_temp)\n",
        "    l_new=np.ones((len(full),1))\n",
        "    for index in range(len(full)):\n",
        "      distances=np.zeros(k)\n",
        "      for i in range(k):\n",
        "        distances[i]=dist(full[index],u[i])\n",
        "      l_new[index][0]=np.argmin(distances)+1\n",
        "  \n",
        "    return l_new\n",
        "\n",
        "  def check(l,l_new):\n",
        "    for k in range(len(l)):\n",
        "      if l[k][0]!=l_new[k][0]:\n",
        "        return False\n",
        "    return True\n",
        "\n",
        "  l_new=update(l,full)\n",
        "  while(not check(l,l_new)):\n",
        "    l=l_new\n",
        "    l_new=update(l,full)\n",
        "\n",
        "  groups=[]\n",
        "  for i in range(k):\n",
        "    groups.append(np.ndarray((0,full.shape[1])))\n",
        "  for index in range(len(full)):\n",
        "    groups[int(l_new[index][0])-1]=np.concatenate((groups[int(l_new[index][0])-1],full[index].reshape(1,full.shape[1])),axis=0)\n",
        "  \n",
        "  u=[]\n",
        "  for i in range(k):\n",
        "    u_temp=np.zeros((1,full.shape[1]))\n",
        "    group=groups[i]\n",
        "    if len(group)==0:\n",
        "      u.append(u_temp)\n",
        "      continue\n",
        "    for j in range(full.shape[1]):\n",
        "      u_temp[0][j]=np.mean(group[:,j:j+1])\n",
        "    u.append(u_temp)\n",
        "\n",
        "  betas_arr=np.zeros((k,1))\n",
        "  for i in range(len(betas_arr)):\n",
        "    sigma=(1/len(groups[i]))*np.sum(norm(groups[i]-u[i]))\n",
        "    betas_arr[i]=1/(2*sigma*sigma)\n",
        "\n",
        "  return u,betas_arr\n"
      ],
      "execution_count": null,
      "outputs": []
    },
    {
      "cell_type": "code",
      "metadata": {
        "id": "IikyD-XCx7zI"
      },
      "source": [
        "def test_result(y_output_actual,y_output):\n",
        "  confusion_matrix=pd.crosstab(y_output_actual.flatten(),y_output.flatten())\n",
        "  confusion_matrix=np.asarray(confusion_matrix)\n",
        "  print(\"Confusion matrix is \")\n",
        "  print(confusion_matrix)\n",
        "  acc=(confusion_matrix[0][0]+confusion_matrix[1][1]+confusion_matrix[2][2])/len(x_te)*100\n",
        "  print(\"Overall accuracy is \",acc)\n",
        "  print(\"accuracy of class 1 is \",confusion_matrix[0][0]/(confusion_matrix[0][0]+confusion_matrix[0][1]+confusion_matrix[0][2])*100)\n",
        "  print(\"accuracy of class 2 is \",confusion_matrix[1][1]/(confusion_matrix[1][0]+confusion_matrix[1][1]+confusion_matrix[1][2])*100)\n",
        "  print(\"accuracy of class 3 is \",confusion_matrix[2][2]/(confusion_matrix[2][0]+confusion_matrix[2][1]+confusion_matrix[2][2])*100)\n",
        "\n",
        "  return acc"
      ],
      "execution_count": null,
      "outputs": []
    },
    {
      "cell_type": "code",
      "metadata": {
        "colab": {
          "base_uri": "https://localhost:8080/"
        },
        "id": "1bc_Fn53x91E",
        "outputId": "d675c063-8ce8-419e-e76c-d86ebd0e5a91"
      },
      "source": [
        "k_arr=np.arange(5,20,1)\n",
        "k_max=0\n",
        "max_acc_va=0\n",
        "w_max=0\n",
        "u_max=0\n",
        "betas_arr_max=0\n",
        "\n",
        "for i in range(len(k_arr)):\n",
        "  k=k_arr[i]\n",
        "  print(\"---------------\")\n",
        "  print(\"for k \",k)\n",
        "  try:\n",
        "    u,betas_arr=k_means(k,x_tr)\n",
        "  except:\n",
        "    print(\"break\")\n",
        "    break\n",
        "  h=np.zeros((len(x_tr),k))\n",
        "\n",
        "  for i in range(len(x_tr)):\n",
        "    for j in range(k):\n",
        "      h[i][j]=np.exp(-1*betas_arr[j]*((norm(x_tr[i]-u[j])**2)))\n",
        "\n",
        "  w=np.linalg.pinv(h)@y_tr\n",
        "\n",
        "  h_va=np.zeros((len(x_va),k))\n",
        "\n",
        "  for i in range(len(x_va)):\n",
        "    for j in range(len(u)):\n",
        "      h_va[i][j]=np.exp(-1*betas_arr[j]*((norm(x_va[i]-u[j])**2)))\n",
        "\n",
        "  y_pred_va=h_va@w\n",
        "\n",
        "  pred_va=np.zeros((len(x_va),1))\n",
        "  y_va_actual=np.zeros((len(x_va),1))\n",
        "  for i in range(len(y_pred_va)):\n",
        "    pred_va[i]=np.argmax(y_pred_va[i])+1\n",
        "    y_va_actual[i]=np.argmax(y_va[i])+1\n",
        "\n",
        "  acc_va=test_result(y_va_actual,pred_va)\n",
        "\n",
        "  if acc_va>=max_acc_va:\n",
        "    max_acc_va=acc_va\n",
        "    k_max=k\n",
        "    w_max=w\n",
        "    u_max=u\n",
        "    betas_arr_max=betas_arr\n",
        "\n",
        "print('k-means where the validation acc is max is at k=',k_max)"
      ],
      "execution_count": null,
      "outputs": [
        {
          "output_type": "stream",
          "name": "stdout",
          "text": [
            "---------------\n",
            "for k  5\n",
            "Confusion matrix is \n",
            "[[8 0 2]\n",
            " [0 8 0]\n",
            " [0 0 3]]\n",
            "Overall accuracy is  45.23809523809524\n",
            "accuracy of class 1 is  80.0\n",
            "accuracy of class 2 is  100.0\n",
            "accuracy of class 3 is  100.0\n",
            "---------------\n",
            "for k  6\n",
            "Confusion matrix is \n",
            "[[7 2 1]\n",
            " [1 6 1]\n",
            " [1 0 2]]\n",
            "Overall accuracy is  35.714285714285715\n",
            "accuracy of class 1 is  70.0\n",
            "accuracy of class 2 is  75.0\n",
            "accuracy of class 3 is  66.66666666666666\n",
            "---------------\n",
            "for k  7\n",
            "Confusion matrix is \n",
            "[[10  0  0]\n",
            " [ 0  8  0]\n",
            " [ 1  0  2]]\n",
            "Overall accuracy is  47.61904761904761\n",
            "accuracy of class 1 is  100.0\n",
            "accuracy of class 2 is  100.0\n",
            "accuracy of class 3 is  66.66666666666666\n",
            "---------------\n",
            "for k  8\n",
            "Confusion matrix is \n",
            "[[8 0 2]\n",
            " [0 8 0]\n",
            " [0 0 3]]\n",
            "Overall accuracy is  45.23809523809524\n",
            "accuracy of class 1 is  80.0\n",
            "accuracy of class 2 is  100.0\n",
            "accuracy of class 3 is  100.0\n",
            "---------------\n",
            "for k  9\n",
            "Confusion matrix is \n",
            "[[10  0  0]\n",
            " [ 0  8  0]\n",
            " [ 1  0  2]]\n",
            "Overall accuracy is  47.61904761904761\n",
            "accuracy of class 1 is  100.0\n",
            "accuracy of class 2 is  100.0\n",
            "accuracy of class 3 is  66.66666666666666\n",
            "---------------\n",
            "for k  10\n",
            "Confusion matrix is \n",
            "[[9 0 1]\n",
            " [0 8 0]\n",
            " [1 0 2]]\n",
            "Overall accuracy is  45.23809523809524\n",
            "accuracy of class 1 is  90.0\n",
            "accuracy of class 2 is  100.0\n",
            "accuracy of class 3 is  66.66666666666666\n",
            "---------------\n",
            "for k  11\n",
            "Confusion matrix is \n",
            "[[7 0 3]\n",
            " [0 8 0]\n",
            " [0 0 3]]\n",
            "Overall accuracy is  42.857142857142854\n",
            "accuracy of class 1 is  70.0\n",
            "accuracy of class 2 is  100.0\n",
            "accuracy of class 3 is  100.0\n",
            "---------------\n",
            "for k  12\n",
            "Confusion matrix is \n",
            "[[9 1 0]\n",
            " [0 8 0]\n",
            " [1 0 2]]\n",
            "Overall accuracy is  45.23809523809524\n",
            "accuracy of class 1 is  90.0\n",
            "accuracy of class 2 is  100.0\n",
            "accuracy of class 3 is  66.66666666666666\n",
            "---------------\n",
            "for k  13\n",
            "Confusion matrix is \n",
            "[[10  0  0]\n",
            " [ 0  8  0]\n",
            " [ 0  0  3]]\n",
            "Overall accuracy is  50.0\n",
            "accuracy of class 1 is  100.0\n",
            "accuracy of class 2 is  100.0\n",
            "accuracy of class 3 is  100.0\n",
            "---------------\n",
            "for k  14\n",
            "break\n",
            "k-means where the validation acc is max is at k= 13\n"
          ]
        }
      ]
    },
    {
      "cell_type": "code",
      "metadata": {
        "colab": {
          "base_uri": "https://localhost:8080/"
        },
        "id": "9T1T0j6hzCsE",
        "outputId": "06cf97ef-f125-47ca-d4d4-0530c26e9788"
      },
      "source": [
        "h=np.zeros((len(x_te),k_max))\n",
        "\n",
        "for i in range(len(x_te)):\n",
        "  for j in range(len(u_max)):\n",
        "    h[i][j]=np.exp(-1*betas_arr_max[j]*( (norm(x_te[i]-u_max[j])**2) ))\n",
        "\n",
        "y_pred=h@w_max\n",
        "\n",
        "pred=np.zeros((len(x_te),1))\n",
        "y_te_actual=np.zeros((len(x_te),1))\n",
        "for i in range(len(y_pred)):\n",
        "  pred[i]=np.argmax(y_pred[i])+1\n",
        "  y_te_actual[i]=np.argmax(y_te[i])+1\n",
        "\n",
        "test_result(y_te_actual,pred)"
      ],
      "execution_count": null,
      "outputs": [
        {
          "output_type": "stream",
          "name": "stdout",
          "text": [
            "Confusion matrix is \n",
            "[[10  1  3]\n",
            " [ 0 15  0]\n",
            " [ 1  0 12]]\n",
            "Overall accuracy is  88.09523809523809\n",
            "accuracy of class 1 is  71.42857142857143\n",
            "accuracy of class 2 is  100.0\n",
            "accuracy of class 3 is  92.3076923076923\n"
          ]
        },
        {
          "output_type": "execute_result",
          "data": {
            "text/plain": [
              "88.09523809523809"
            ]
          },
          "metadata": {},
          "execution_count": 162
        }
      ]
    },
    {
      "cell_type": "code",
      "metadata": {
        "id": "wS9nXavNzDJJ"
      },
      "source": [
        "def divide_tr_te_k_fold(x_norm,y_norm,k):\n",
        "  batch_size=math.floor(len(x_norm)/k)\n",
        "  x_norm_k=[]\n",
        "  y_norm_k=[]\n",
        "  start=0\n",
        "  end=batch_size\n",
        "  for t in range(5):\n",
        "    if(t==4):\n",
        "      x_norm_k.append(x_norm[start:])\n",
        "      y_norm_k.append(y_norm[start:])\n",
        "    else:\n",
        "      x_norm_k.append(x_norm[start:end])\n",
        "      y_norm_k.append(y_norm[start:end])\n",
        "    start=end\n",
        "    end=end+batch_size\n",
        "  return x_norm_k,y_norm_k\n",
        "\n",
        "x_norm_k,y_norm_k=divide_tr_te_k_fold(x_norm,y_norm,5)"
      ],
      "execution_count": null,
      "outputs": []
    },
    {
      "cell_type": "code",
      "metadata": {
        "id": "5Q_Oc_JH285z"
      },
      "source": [
        "def calculate(x_tr,y_tr,x_va,y_va,x_te,y_te):\n",
        "  k_arr=np.arange(5,20,1)\n",
        "  k_max=0\n",
        "  max_acc_va=0\n",
        "  w_max=0\n",
        "  u_max=0\n",
        "  betas_arr_max=0\n",
        "\n",
        "  for i in range(len(k_arr)):\n",
        "    k=k_arr[i]\n",
        "    print(\"---------------\")\n",
        "    print(\"for k \",k)\n",
        "    try:\n",
        "      u,betas_arr=k_means(k,x_tr)\n",
        "    except:\n",
        "      print(\"break\")\n",
        "      break\n",
        "    h=np.zeros((len(x_tr),k))\n",
        "\n",
        "    for i in range(len(x_tr)):\n",
        "      for j in range(k):\n",
        "        h[i][j]=np.exp(-1*betas_arr[j]*((norm(x_tr[i]-u[j])**2)))\n",
        "\n",
        "    w=np.linalg.pinv(h)@y_tr\n",
        "\n",
        "    h_va=np.zeros((len(x_va),k))\n",
        "\n",
        "    for i in range(len(x_va)):\n",
        "      for j in range(len(u)):\n",
        "        h_va[i][j]=np.exp(-1*betas_arr[j]*((norm(x_va[i]-u[j])**2)))\n",
        "\n",
        "    y_pred_va=h_va@w\n",
        "\n",
        "    pred_va=np.zeros((len(x_va),1))\n",
        "    y_va_actual=np.zeros((len(x_va),1))\n",
        "    for i in range(len(y_pred_va)):\n",
        "      pred_va[i]=np.argmax(y_pred_va[i])+1\n",
        "      y_va_actual[i]=np.argmax(y_va[i])+1\n",
        "\n",
        "    acc_va=test_result(y_va_actual,pred_va)\n",
        "\n",
        "    if acc_va>=max_acc_va:\n",
        "      max_acc_va=acc_va\n",
        "      k_max=k\n",
        "      w_max=w\n",
        "      u_max=u\n",
        "      betas_arr_max=betas_arr\n",
        "\n",
        "  print('k-means where the validation acc is max is at k=',k_max)\n",
        "  print(\"For test data\")\n",
        "  h=np.zeros((len(x_te),k_max))\n",
        "\n",
        "  for i in range(len(x_te)):\n",
        "    for j in range(len(u_max)):\n",
        "      h[i][j]=np.exp(-1*betas_arr_max[j]*((norm(x_te[i]-u_max[j])**2)))\n",
        "\n",
        "  y_pred=h@w_max\n",
        "\n",
        "  pred=np.zeros((len(x_te),1))\n",
        "  y_te_actual=np.zeros((len(x_te),1))\n",
        "  for i in range(len(y_pred)):\n",
        "    pred[i]=np.argmax(y_pred[i])+1\n",
        "    y_te_actual[i]=np.argmax(y_te[i])+1\n",
        "\n",
        "  acc=test_result(y_te_actual,pred)\n",
        "  return acc,k_max"
      ],
      "execution_count": null,
      "outputs": []
    },
    {
      "cell_type": "code",
      "metadata": {
        "colab": {
          "base_uri": "https://localhost:8080/"
        },
        "id": "aGT9R44437-K",
        "outputId": "5e08d566-3714-4f6f-fd47-fde41990d80a"
      },
      "source": [
        "acc_arr=[]\n",
        "k_max_arr=[]\n",
        "for z in range(len(x_norm_k)):\n",
        "  print('-------------------------------')\n",
        "  print(\"For Fold \",z+1)\n",
        "  print('-------------------------------')\n",
        "  x_te=x_norm_k[z]\n",
        "  y_te=y_norm_k[z]\n",
        "\n",
        "  x_tr=np.ndarray((0,x_norm_k[z].shape[1]))\n",
        "  y_tr=np.ndarray((0,y_norm_k[z].shape[1]))\n",
        "  for q in range(len(x_norm_k)):\n",
        "    if (z==q):\n",
        "      continue\n",
        "    x_tr=np.concatenate((x_tr,x_norm_k[q]),axis=0)\n",
        "    y_tr=np.concatenate((y_tr,y_norm_k[q]),axis=0)\n",
        "\n",
        "  x_va=x_tr[math.floor(0.9*x_tr.shape[0]):]\n",
        "  y_va=y_tr[math.floor(0.9*y_tr.shape[0]):]\n",
        "\n",
        "  x_tr=x_tr[:math.floor(0.9*x_tr.shape[0])]\n",
        "  y_tr=y_tr[:math.floor(0.9*y_tr.shape[0])]\n",
        "\n",
        "  accuracy,k_max=calculate(x_tr,y_tr,x_va,y_va,x_te,y_te)\n",
        "  acc_arr.append(accuracy)\n",
        "  k_max_arr.append(k_max)\n",
        "print('---------------')\n",
        "print('Average accuracy is ',sum(acc_arr)/len(acc_arr))\n",
        "print('---------------')"
      ],
      "execution_count": null,
      "outputs": [
        {
          "output_type": "stream",
          "name": "stdout",
          "text": [
            "-------------------------------\n",
            "For Fold  1\n",
            "-------------------------------\n",
            "---------------\n",
            "for k  5\n",
            "Confusion matrix is \n",
            "[[1 6 0]\n",
            " [0 6 0]\n",
            " [0 0 4]]\n",
            "Overall accuracy is  26.190476190476193\n",
            "accuracy of class 1 is  14.285714285714285\n",
            "accuracy of class 2 is  100.0\n",
            "accuracy of class 3 is  100.0\n",
            "---------------\n",
            "for k  6\n",
            "Confusion matrix is \n",
            "[[4 2 1]\n",
            " [0 6 0]\n",
            " [0 0 4]]\n",
            "Overall accuracy is  33.33333333333333\n",
            "accuracy of class 1 is  57.14285714285714\n",
            "accuracy of class 2 is  100.0\n",
            "accuracy of class 3 is  100.0\n",
            "---------------\n",
            "for k  7\n",
            "Confusion matrix is \n",
            "[[4 1 2]\n",
            " [0 6 0]\n",
            " [1 0 3]]\n",
            "Overall accuracy is  30.952380952380953\n",
            "accuracy of class 1 is  57.14285714285714\n",
            "accuracy of class 2 is  100.0\n",
            "accuracy of class 3 is  75.0\n",
            "---------------\n",
            "for k  8\n",
            "Confusion matrix is \n",
            "[[5 0 2]\n",
            " [0 5 1]\n",
            " [0 0 4]]\n",
            "Overall accuracy is  33.33333333333333\n",
            "accuracy of class 1 is  71.42857142857143\n",
            "accuracy of class 2 is  83.33333333333334\n",
            "accuracy of class 3 is  100.0\n",
            "---------------\n",
            "for k  9\n",
            "Confusion matrix is \n",
            "[[3 1 3]\n",
            " [0 6 0]\n",
            " [0 0 4]]\n",
            "Overall accuracy is  30.952380952380953\n",
            "accuracy of class 1 is  42.857142857142854\n",
            "accuracy of class 2 is  100.0\n",
            "accuracy of class 3 is  100.0\n",
            "---------------\n",
            "for k  10\n",
            "Confusion matrix is \n",
            "[[7 0 0]\n",
            " [0 6 0]\n",
            " [0 0 4]]\n",
            "Overall accuracy is  40.476190476190474\n",
            "accuracy of class 1 is  100.0\n",
            "accuracy of class 2 is  100.0\n",
            "accuracy of class 3 is  100.0\n",
            "---------------\n",
            "for k  11\n",
            "break\n",
            "k-means where the validation acc is max is at k= 10\n",
            "For test data\n",
            "Confusion matrix is \n",
            "[[13  0  0]\n",
            " [ 0 10  0]\n",
            " [ 5  0 14]]\n",
            "Overall accuracy is  88.09523809523809\n",
            "accuracy of class 1 is  100.0\n",
            "accuracy of class 2 is  100.0\n",
            "accuracy of class 3 is  73.68421052631578\n",
            "-------------------------------\n",
            "For Fold  2\n",
            "-------------------------------\n",
            "---------------\n",
            "for k  5\n",
            "Confusion matrix is \n",
            "[[6 0 1]\n",
            " [1 5 0]\n",
            " [0 0 4]]\n",
            "Overall accuracy is  35.714285714285715\n",
            "accuracy of class 1 is  85.71428571428571\n",
            "accuracy of class 2 is  83.33333333333334\n",
            "accuracy of class 3 is  100.0\n",
            "---------------\n",
            "for k  6\n",
            "Confusion matrix is \n",
            "[[4 2 1]\n",
            " [0 6 0]\n",
            " [0 0 4]]\n",
            "Overall accuracy is  33.33333333333333\n",
            "accuracy of class 1 is  57.14285714285714\n",
            "accuracy of class 2 is  100.0\n",
            "accuracy of class 3 is  100.0\n",
            "---------------\n",
            "for k  7\n",
            "Confusion matrix is \n",
            "[[5 1 1]\n",
            " [0 6 0]\n",
            " [0 0 4]]\n",
            "Overall accuracy is  35.714285714285715\n",
            "accuracy of class 1 is  71.42857142857143\n",
            "accuracy of class 2 is  100.0\n",
            "accuracy of class 3 is  100.0\n",
            "---------------\n",
            "for k  8\n",
            "Confusion matrix is \n",
            "[[5 1 1]\n",
            " [0 6 0]\n",
            " [0 0 4]]\n",
            "Overall accuracy is  35.714285714285715\n",
            "accuracy of class 1 is  71.42857142857143\n",
            "accuracy of class 2 is  100.0\n",
            "accuracy of class 3 is  100.0\n",
            "---------------\n",
            "for k  9\n",
            "Confusion matrix is \n",
            "[[5 1 1]\n",
            " [0 6 0]\n",
            " [2 0 2]]\n",
            "Overall accuracy is  30.952380952380953\n",
            "accuracy of class 1 is  71.42857142857143\n",
            "accuracy of class 2 is  100.0\n",
            "accuracy of class 3 is  50.0\n",
            "---------------\n",
            "for k  10\n",
            "Confusion matrix is \n",
            "[[3 1 3]\n",
            " [0 6 0]\n",
            " [0 0 4]]\n",
            "Overall accuracy is  30.952380952380953\n",
            "accuracy of class 1 is  42.857142857142854\n",
            "accuracy of class 2 is  100.0\n",
            "accuracy of class 3 is  100.0\n",
            "---------------\n",
            "for k  11\n",
            "break\n",
            "k-means where the validation acc is max is at k= 8\n",
            "For test data\n",
            "Confusion matrix is \n",
            "[[ 8  0  0]\n",
            " [ 1 19  0]\n",
            " [ 2  0 12]]\n",
            "Overall accuracy is  92.85714285714286\n",
            "accuracy of class 1 is  100.0\n",
            "accuracy of class 2 is  95.0\n",
            "accuracy of class 3 is  85.71428571428571\n",
            "-------------------------------\n",
            "For Fold  3\n",
            "-------------------------------\n",
            "---------------\n",
            "for k  5\n",
            "Confusion matrix is \n",
            "[[7 0 0]\n",
            " [1 5 0]\n",
            " [0 0 4]]\n",
            "Overall accuracy is  38.095238095238095\n",
            "accuracy of class 1 is  100.0\n",
            "accuracy of class 2 is  83.33333333333334\n",
            "accuracy of class 3 is  100.0\n",
            "---------------\n",
            "for k  6\n",
            "Confusion matrix is \n",
            "[[4 2 1]\n",
            " [0 6 0]\n",
            " [0 0 4]]\n",
            "Overall accuracy is  33.33333333333333\n",
            "accuracy of class 1 is  57.14285714285714\n",
            "accuracy of class 2 is  100.0\n",
            "accuracy of class 3 is  100.0\n",
            "---------------\n",
            "for k  7\n",
            "Confusion matrix is \n",
            "[[4 1 2]\n",
            " [0 5 1]\n",
            " [0 0 4]]\n",
            "Overall accuracy is  30.952380952380953\n",
            "accuracy of class 1 is  57.14285714285714\n",
            "accuracy of class 2 is  83.33333333333334\n",
            "accuracy of class 3 is  100.0\n",
            "---------------\n",
            "for k  8\n",
            "Confusion matrix is \n",
            "[[4 2 1]\n",
            " [0 6 0]\n",
            " [0 0 4]]\n",
            "Overall accuracy is  33.33333333333333\n",
            "accuracy of class 1 is  57.14285714285714\n",
            "accuracy of class 2 is  100.0\n",
            "accuracy of class 3 is  100.0\n",
            "---------------\n",
            "for k  9\n",
            "break\n",
            "k-means where the validation acc is max is at k= 5\n",
            "For test data\n",
            "Confusion matrix is \n",
            "[[17  0  0]\n",
            " [ 1  9  0]\n",
            " [ 4  0 11]]\n",
            "Overall accuracy is  88.09523809523809\n",
            "accuracy of class 1 is  100.0\n",
            "accuracy of class 2 is  90.0\n",
            "accuracy of class 3 is  73.33333333333333\n",
            "-------------------------------\n",
            "For Fold  4\n",
            "-------------------------------\n",
            "---------------\n",
            "for k  5\n",
            "Confusion matrix is \n",
            "[[4 2 1]\n",
            " [0 6 0]\n",
            " [0 0 4]]\n",
            "Overall accuracy is  33.33333333333333\n",
            "accuracy of class 1 is  57.14285714285714\n",
            "accuracy of class 2 is  100.0\n",
            "accuracy of class 3 is  100.0\n",
            "---------------\n",
            "for k  6\n",
            "Confusion matrix is \n",
            "[[6 0 1]\n",
            " [1 5 0]\n",
            " [0 0 4]]\n",
            "Overall accuracy is  35.714285714285715\n",
            "accuracy of class 1 is  85.71428571428571\n",
            "accuracy of class 2 is  83.33333333333334\n",
            "accuracy of class 3 is  100.0\n",
            "---------------\n",
            "for k  7\n",
            "Confusion matrix is \n",
            "[[2 3 2]\n",
            " [0 6 0]\n",
            " [0 1 3]]\n",
            "Overall accuracy is  26.190476190476193\n",
            "accuracy of class 1 is  28.57142857142857\n",
            "accuracy of class 2 is  100.0\n",
            "accuracy of class 3 is  75.0\n",
            "---------------\n",
            "for k  8\n",
            "Confusion matrix is \n",
            "[[4 1 2]\n",
            " [0 6 0]\n",
            " [0 0 4]]\n",
            "Overall accuracy is  33.33333333333333\n",
            "accuracy of class 1 is  57.14285714285714\n",
            "accuracy of class 2 is  100.0\n",
            "accuracy of class 3 is  100.0\n",
            "---------------\n",
            "for k  9\n",
            "Confusion matrix is \n",
            "[[7 0 0]\n",
            " [1 5 0]\n",
            " [2 0 2]]\n",
            "Overall accuracy is  33.33333333333333\n",
            "accuracy of class 1 is  100.0\n",
            "accuracy of class 2 is  83.33333333333334\n",
            "accuracy of class 3 is  50.0\n",
            "---------------\n",
            "for k  10\n",
            "Confusion matrix is \n",
            "[[4 2 1]\n",
            " [0 6 0]\n",
            " [2 0 2]]\n",
            "Overall accuracy is  28.57142857142857\n",
            "accuracy of class 1 is  57.14285714285714\n",
            "accuracy of class 2 is  100.0\n",
            "accuracy of class 3 is  50.0\n",
            "---------------\n",
            "for k  11\n",
            "break\n",
            "k-means where the validation acc is max is at k= 6\n",
            "For test data\n",
            "Confusion matrix is \n",
            "[[17  0  1]\n",
            " [ 6  9  0]\n",
            " [ 1  0  8]]\n",
            "Overall accuracy is  80.95238095238095\n",
            "accuracy of class 1 is  94.44444444444444\n",
            "accuracy of class 2 is  60.0\n",
            "accuracy of class 3 is  88.88888888888889\n",
            "-------------------------------\n",
            "For Fold  5\n",
            "-------------------------------\n",
            "---------------\n",
            "for k  5\n",
            "Confusion matrix is \n",
            "[[6 1 1]\n",
            " [0 6 0]\n",
            " [0 0 3]]\n",
            "Overall accuracy is  35.714285714285715\n",
            "accuracy of class 1 is  75.0\n",
            "accuracy of class 2 is  100.0\n",
            "accuracy of class 3 is  100.0\n",
            "---------------\n",
            "for k  6\n",
            "Confusion matrix is \n",
            "[[6 0 2]\n",
            " [0 6 0]\n",
            " [0 0 3]]\n",
            "Overall accuracy is  35.714285714285715\n",
            "accuracy of class 1 is  75.0\n",
            "accuracy of class 2 is  100.0\n",
            "accuracy of class 3 is  100.0\n",
            "---------------\n",
            "for k  7\n",
            "Confusion matrix is \n",
            "[[8 0 0]\n",
            " [0 6 0]\n",
            " [1 0 2]]\n",
            "Overall accuracy is  38.095238095238095\n",
            "accuracy of class 1 is  100.0\n",
            "accuracy of class 2 is  100.0\n",
            "accuracy of class 3 is  66.66666666666666\n",
            "---------------\n",
            "for k  8\n",
            "Confusion matrix is \n",
            "[[7 0 1]\n",
            " [0 6 0]\n",
            " [0 0 3]]\n",
            "Overall accuracy is  38.095238095238095\n",
            "accuracy of class 1 is  87.5\n",
            "accuracy of class 2 is  100.0\n",
            "accuracy of class 3 is  100.0\n",
            "---------------\n",
            "for k  9\n",
            "Confusion matrix is \n",
            "[[8 0 0]\n",
            " [0 6 0]\n",
            " [1 0 2]]\n",
            "Overall accuracy is  38.095238095238095\n",
            "accuracy of class 1 is  100.0\n",
            "accuracy of class 2 is  100.0\n",
            "accuracy of class 3 is  66.66666666666666\n",
            "---------------\n",
            "for k  10\n",
            "Confusion matrix is \n",
            "[[7 0 1]\n",
            " [0 6 0]\n",
            " [0 0 3]]\n",
            "Overall accuracy is  38.095238095238095\n",
            "accuracy of class 1 is  87.5\n",
            "accuracy of class 2 is  100.0\n",
            "accuracy of class 3 is  100.0\n",
            "---------------\n",
            "for k  11\n",
            "Confusion matrix is \n",
            "[[8 0 0]\n",
            " [0 6 0]\n",
            " [1 0 2]]\n",
            "Overall accuracy is  38.095238095238095\n",
            "accuracy of class 1 is  100.0\n",
            "accuracy of class 2 is  100.0\n",
            "accuracy of class 3 is  66.66666666666666\n",
            "---------------\n",
            "for k  12\n",
            "Confusion matrix is \n",
            "[[8 0 0]\n",
            " [0 6 0]\n",
            " [1 0 2]]\n",
            "Overall accuracy is  38.095238095238095\n",
            "accuracy of class 1 is  100.0\n",
            "accuracy of class 2 is  100.0\n",
            "accuracy of class 3 is  66.66666666666666\n",
            "---------------\n",
            "for k  13\n",
            "Confusion matrix is \n",
            "[[7 0 1]\n",
            " [0 6 0]\n",
            " [0 0 3]]\n",
            "Overall accuracy is  38.095238095238095\n",
            "accuracy of class 1 is  87.5\n",
            "accuracy of class 2 is  100.0\n",
            "accuracy of class 3 is  100.0\n",
            "---------------\n",
            "for k  14\n",
            "break\n",
            "k-means where the validation acc is max is at k= 13\n",
            "For test data\n",
            "Confusion matrix is \n",
            "[[ 9  1  4]\n",
            " [ 0 15  0]\n",
            " [ 0  0 13]]\n",
            "Overall accuracy is  88.09523809523809\n",
            "accuracy of class 1 is  64.28571428571429\n",
            "accuracy of class 2 is  100.0\n",
            "accuracy of class 3 is  100.0\n",
            "---------------\n",
            "Average accuracy is  87.61904761904762\n",
            "---------------\n"
          ]
        }
      ]
    },
    {
      "cell_type": "code",
      "metadata": {
        "colab": {
          "base_uri": "https://localhost:8080/"
        },
        "id": "CH68q3Ye4Riu",
        "outputId": "eefb0d1e-e391-4e85-e65a-057c61fe389b"
      },
      "source": [
        "print('Fold   k    accuracy')\n",
        "for i in range(5):\n",
        "  print(f'{i+1}      {k_max_arr[i]}    {acc_arr[i]}')"
      ],
      "execution_count": null,
      "outputs": [
        {
          "output_type": "stream",
          "name": "stdout",
          "text": [
            "Fold   k    accuracy\n",
            "1      10    88.09523809523809\n",
            "2      8    92.85714285714286\n",
            "3      5    88.09523809523809\n",
            "4      6    80.95238095238095\n",
            "5      13    88.09523809523809\n"
          ]
        }
      ]
    },
    {
      "cell_type": "markdown",
      "metadata": {
        "id": "7wBpcGl6A0_M"
      },
      "source": [
        "Q5. Implement the stacked autoencoder based deep neural network for the classification problem. The deep neural network must contain 3 hidden layers from three autoencoders. You can use holdout (70, 10, and 20%) cross-validation technique for selecting, training and test instances for the classifier. The dataset (data5.xlsx) contains 7 features and the last column is the output (class labels). For autoencoder implementation, please use back propagation algorithm discussed in the class. Evaluate individual accuracy and overall accuracy. (Packages such as Scikitlearn, keras, tensorflow, pytorch etc. are not allowed)."
      ]
    },
    {
      "cell_type": "code",
      "metadata": {
        "id": "xwMfgLvKlIGY"
      },
      "source": [
        "import numpy as np\n",
        "import pandas as pd\n",
        "import math\n",
        "\n",
        "full_df=pd.read_excel('/content/drive/My Drive/nnfl_assignment_2_data/data5.xlsx',header=None,names=[\"A\",\"B\",\"C\",\"D\",\"E\",\"F\",\"G\",\"class\"])\n",
        "\n",
        "full_df=full_df.values\n",
        "np.random.shuffle(full_df)\n",
        "\n",
        "x_full=full_df[:,0:7]\n",
        "y_full=full_df[:,7:8]\n",
        "\n",
        "x_norm=np.ones((x_full.shape[0],x_full.shape[1]+1))\n",
        "for i in range(x_full.shape[1]):\n",
        "  x_norm[:,i+1:i+2]=(x_full[:,i:i+1]-np.mean(x_full[:,i:i+1]))/np.std(x_full[:,i:i+1])\n",
        "\n",
        "y_norm=np.zeros((len(y_full),3))\n",
        "\n",
        "for i in range(len(y_full)):\n",
        "  if y_full[i][0]==1:\n",
        "    y_norm[i][0]=1\n",
        "  elif y_full[i][0]==2:\n",
        "    y_norm[i][1]=1\n",
        "  elif y_full[i][0]==3:\n",
        "    y_norm[i][2]=1"
      ],
      "execution_count": null,
      "outputs": []
    },
    {
      "cell_type": "code",
      "metadata": {
        "id": "_v0kTxcvlICD"
      },
      "source": [
        "def divide_tr_va_te(x_norm,y_norm):\n",
        "  x_tr=x_norm[:math.floor(0.7*x_norm.shape[0])]\n",
        "  x_va=x_norm[math.floor(0.7*x_norm.shape[0]):math.floor(0.8*x_norm.shape[0])]\n",
        "  x_te=x_norm[math.floor(0.8*x_norm.shape[0]):]\n",
        "\n",
        "  y_tr=y_norm[:math.floor(0.7*y_norm.shape[0])]\n",
        "  y_va=y_norm[math.floor(0.7*y_norm.shape[0]):math.floor(0.8*y_norm.shape[0])]\n",
        "  y_te=y_norm[math.floor(0.8*y_norm.shape[0]):]\n",
        "  return x_tr,x_va,x_te,y_tr,y_va,y_te\n",
        "\n",
        "x_tr,x_va,x_te,y_tr,y_va,y_te=divide_tr_va_te(x_norm,y_norm)"
      ],
      "execution_count": null,
      "outputs": []
    },
    {
      "cell_type": "code",
      "metadata": {
        "id": "rHF_rJw6lH9J"
      },
      "source": [
        "def sigmoid(x):\n",
        "  return 1/(1+np.exp(-x))\n",
        "\n",
        "def delta_sigm(x):\n",
        "  return np.multiply(x,1-x)\n",
        "\n",
        "def fpa(inp,w1,b1,w2,b2):\n",
        "  h=inp@w1+b1\n",
        "  h=sigmoid(h)\n",
        "  h2=h@w2+b2\n",
        "  h2=sigmoid(h2)\n",
        "  return inp,h,h2\n",
        "\n",
        "def bpa(inp,a1,a2,a3,w1,b1,w2,b2,alpha,lam):\n",
        "  delta3=-1*((inp-a3)*delta_sigm(a3))\n",
        "  delta2=np.multiply(delta_sigm(a2),(delta3 @ w2.T))\n",
        "\n",
        "  w2=w2*(1-alpha*lam)-(alpha)*(a2.T @ delta3)\n",
        "  w1=w1*(1-alpha*lam)-(alpha)*(a1.T @ delta2)\n",
        "  b2=b2-(alpha)*np.sum(delta3,axis=0)\n",
        "  b1=b1-(alpha)*np.sum(delta2,axis=0)\n",
        "  return w1,b1,w2,b2\n",
        "\n",
        "def cost(w1,b1,w2,b2,inp,a1,a2,a3,lam,hidden):\n",
        "  err_sq=((a3-inp)**2)/2\n",
        "  err=np.sum(np.sum(err_sq))/len(inp)\n",
        "  err2=(lam/2) * (np.sum(np.sum(w1**2))+np.sum(np.sum(w2**2)))\n",
        "  j=err+err2\n",
        "  return j\n",
        "\n",
        "def error(pred,act):\n",
        "  return np.sum((pred-act)**2)/len(pred)"
      ],
      "execution_count": null,
      "outputs": []
    },
    {
      "cell_type": "code",
      "metadata": {
        "id": "idzBTI4JlH3_"
      },
      "source": [
        "def pre_training(x_tr,x_va,hidden_least,hidden_max):\n",
        "  hidden_arr=np.arange(hidden_least,hidden_max+1,1)\n",
        "\n",
        "  alpha_arr=np.arange(0.01,0.1,0.01)\n",
        "  lam_arr=np.arange(0.1,1,0.1)\n",
        "\n",
        "  j_min=float('inf')\n",
        "  alpha_min=-1\n",
        "  lam_min=-1\n",
        "  hidden_min=-1\n",
        "  w1_min=-1\n",
        "  b1_min=-1\n",
        "  \n",
        "  w2_min=-1\n",
        "  b2_min=-1\n",
        "\n",
        "  inp=x_tr\n",
        "\n",
        "  for hidden_index in range(len(hidden_arr)):\n",
        "    for alpha_index in range(len(alpha_arr)):\n",
        "      for lam_index in range(len(lam_arr)):\n",
        "        hidden=hidden_arr[hidden_index]\n",
        "        alpha=alpha_arr[alpha_index]\n",
        "        lam=lam_arr[lam_index]\n",
        "\n",
        "        w1=np.zeros((inp.shape[1],hidden))\n",
        "        w2=np.zeros((hidden,inp.shape[1]))\n",
        "        b1=np.zeros((1,hidden))\n",
        "        b2=np.zeros((1,inp.shape[1]))\n",
        "\n",
        "        for i in range(500):\n",
        "          a1,a2,a3=fpa(inp,w1,b1,w2,b2)\n",
        "          w1,b1,w2,b2=bpa(inp,a1,a2,a3,w1,b1,w2,b2,alpha,lam)\n",
        "\n",
        "        a1,a2,a3=fpa(x_va,w1,b1,w2,b2)\n",
        "        j=error(a3,x_va)\n",
        "        if j<=j_min:\n",
        "          j_min=j\n",
        "          hidden_min=hidden\n",
        "          alpha_min=alpha\n",
        "          lam_min=lam\n",
        "          w1_min=w1\n",
        "          b1_min=b1\n",
        "          w2_min=w2       \n",
        "          b2_min=b2\n",
        "  print(f'Number of hidden neurons is {hidden_min}, error_min is {j_min}, alpha is {alpha_min}, lambda is {lam_min}')\n",
        "  return hidden_min,w1_min,b1_min,w2_min,b2_min"
      ],
      "execution_count": null,
      "outputs": []
    },
    {
      "cell_type": "code",
      "metadata": {
        "colab": {
          "base_uri": "https://localhost:8080/"
        },
        "id": "2uHe6FTJlHzM",
        "outputId": "141787bf-a325-43c2-c97d-c577dc53a27c"
      },
      "source": [
        "#pre-training\n",
        "\n",
        "#autoencoder 1\n",
        "hidden_1,w1,b1,w12,b12=pre_training(x_tr,x_va,5,x_tr.shape[1]-1)\n",
        "a11_tr,a12_tr,a13_tr=fpa(x_tr,w1,b1,w12,b12)\n",
        "a11_va,a12_va,a13_va=fpa(x_va,w1,b1,w12,b12)\n",
        "\n",
        "#autoencoder 2\n",
        "hidden_2,w2,b2,w22,b22=pre_training(a12_tr,a12_va,4,hidden_1-1)\n",
        "a21_tr,a22_tr,a23_tr=fpa(a12_tr,w2,b2,w22,b22)\n",
        "a21_va,a22_va,a23_va=fpa(a12_va,w2,b2,w22,b22)\n",
        "\n",
        "#autoencoder 3\n",
        "hidden_3,w3,b3,w33,b33=pre_training(a22_tr,a22_va,3,hidden_2-1)"
      ],
      "execution_count": null,
      "outputs": [
        {
          "output_type": "stream",
          "name": "stdout",
          "text": [
            "Number of hidden neurons is 7, error_min is 3.255564397863491, alpha is 0.08, lambda is 0.1\n",
            "Number of hidden neurons is 6, error_min is 0.1882145481540308, alpha is 0.060000000000000005, lambda is 0.1\n",
            "Number of hidden neurons is 5, error_min is 0.007076357586579558, alpha is 0.060000000000000005, lambda is 0.1\n"
          ]
        }
      ]
    },
    {
      "cell_type": "code",
      "metadata": {
        "id": "VVVz1ceX_EhQ"
      },
      "source": [
        "def fpa_stack(inp,w1,b1,w2,b2,w3,b3,w4,b4):\n",
        "  h1=inp@w1+b1\n",
        "  h1=sigmoid(h1)\n",
        "  h2=h1@w2+b2\n",
        "  h2=sigmoid(h2)\n",
        "  h3=h2@w3+b3\n",
        "  h3=sigmoid(h3)\n",
        "  h4=h3@w4+b4\n",
        "  h4=sigmoid(h4)\n",
        "  \n",
        "  return inp,h1,h2,h3,h4\n",
        "\n",
        "def bpa_stack(a1,a2,a3,a4,a5,w1,b1,w2,b2,w3,b3,w4,b4,alpha,lam,y_tr):\n",
        "  delta5=-1*(np.multiply(y_tr-a5,delta_sigm(a5)))\n",
        "  delta4=np.multiply((delta5 @ w4.T),delta_sigm(a4))\n",
        "  delta3=np.multiply((delta4 @ w3.T),delta_sigm(a3))\n",
        "  delta2=np.multiply((delta3 @ w2.T),delta_sigm(a2))\n",
        "\n",
        "  w4=w4*(1-alpha*lam)-(alpha)*(a4.T @ delta5)  \n",
        "  w3=w3*(1-alpha*lam)-(alpha)*(a3.T @ delta4)\n",
        "  w2=w2*(1-alpha*lam)-(alpha)*(a2.T @ delta3)\n",
        "  w1=w1*(1-alpha*lam)-(alpha)*(a1.T @ delta2)\n",
        "\n",
        "  b4=b4-(alpha)*np.sum(delta5,axis=0)\n",
        "  b3=b3-(alpha)*np.sum(delta4,axis=0)\n",
        "  b2=b2-(alpha)*np.sum(delta3,axis=0)\n",
        "  b1=b1-(alpha)*np.sum(delta2,axis=0)\n",
        "  return w1,b1,w2,b2,w3,b3,w4,b4\n",
        "\n",
        "def cost_stack(w1,b1,w2,b2,w3,b3,w4,b4,inp,a5,lam,y_tr):\n",
        "  err_sq=((a5-y_tr)**2)/2\n",
        "  err=np.sum(np.sum(err_sq))/len(inp)\n",
        "  err2=(lam/2) * (np.sum(np.sum(w1**2))+np.sum(np.sum(w2**2))+np.sum(np.sum(w3**2))+np.sum(np.sum(w4**2)))\n",
        "  j=err+err2\n",
        "  return j\n",
        "\n",
        "def hot_decoding(matrix):\n",
        "  temp=np.zeros((len(matrix),1))\n",
        "  for i in range(len(matrix)):\n",
        "    temp[i]=np.argmax(matrix[i])+1\n",
        "  return temp\n",
        "\n",
        "def wrong_pred(y_pred,y_te):\n",
        "  y_pred_dec=hot_decoding(y_pred)\n",
        "  y_te_dec=hot_decoding(y_te)\n",
        "  err=0\n",
        "  for i in range(len(y_te)):\n",
        "    if y_pred_dec[i]!=y_te_dec[i]:\n",
        "      err+=1\n",
        "  return err"
      ],
      "execution_count": null,
      "outputs": []
    },
    {
      "cell_type": "code",
      "metadata": {
        "id": "rOic0q_Bnrsp"
      },
      "source": [
        "def stacked(x_tr,y_tr,x_va,y_va,w1_opt,b1_opt,w2_opt,b2_opt,w3_opt,b3_opt,hidden_3):\n",
        "  alpha_arr=np.arange(0.01,0.1,0.01)\n",
        "  lam_arr=np.arange(0.1,1,0.1)\n",
        "\n",
        "  j_min=float('inf')\n",
        "  alpha_min=0\n",
        "  lam_min=0\n",
        "  w1_min=0\n",
        "  w2_min=0\n",
        "  w3_min=0\n",
        "  w4_min=0\n",
        "\n",
        "  b1_min=0\n",
        "  b2_min=0\n",
        "  b3_min=0\n",
        "  b4_min=0\n",
        "\n",
        "  inp=x_tr\n",
        "  for alpha_index in range(len(alpha_arr)):\n",
        "    for lam_index in range(len(lam_arr)):\n",
        "      w1=w1_opt\n",
        "      b1=b1_opt\n",
        "      w2=w2_opt\n",
        "      b2=b2_opt\n",
        "      w3=w3_opt\n",
        "      b3=b3_opt\n",
        "      alpha=alpha_arr[alpha_index]\n",
        "      lam=lam_arr[lam_index]\n",
        "\n",
        "      w4=np.zeros((hidden_3,3))\n",
        "      b4=np.zeros((1,3))\n",
        "\n",
        "      for i in range(500):\n",
        "        a1,a2,a3,a4,a5=fpa_stack(inp,w1,b1,w2,b2,w3,b3,w4,b4)\n",
        "        w1,b1,w2,b2,w3,b3,w4,b4=bpa_stack(a1,a2,a3,a4,a5,w1,b1,w2,b2,w3,b3,w4,b4,alpha,lam,y_tr)\n",
        "\n",
        "      a1,a2,a3,a4,a5=fpa_stack(x_va,w1,b1,w2,b2,w3,b3,w4,b4)\n",
        "      j=wrong_pred(a5,y_va)\n",
        "      if j<=j_min:\n",
        "        j_min=j\n",
        "        alpha_min=alpha\n",
        "        lam_min=lam\n",
        "        w1_min=w1\n",
        "        w2_min=w2\n",
        "        w3_min=w3\n",
        "        w4_min=w4\n",
        "\n",
        "        b1_min=b1\n",
        "        b2_min=b2\n",
        "        b3_min=b3\n",
        "        b4_min=b4\n",
        "  print(f'j is {j_min}, alpha is {alpha_min}, lambda is {lam_min}')\n",
        "  return w1_min,b1_min,w2_min,b2_min,w3_min,b3_min,w4_min,b4_min"
      ],
      "execution_count": null,
      "outputs": []
    },
    {
      "cell_type": "code",
      "metadata": {
        "colab": {
          "base_uri": "https://localhost:8080/"
        },
        "id": "cJPOgbBDpKgr",
        "outputId": "1ea9cfc4-7615-41e7-a3f8-a463273536ea"
      },
      "source": [
        "w1_stack,b1_stack,w2_stack,b2_stack,w3_stack,b3_stack,w4_stack,b4_stack=stacked(x_tr,y_tr,x_va,y_va,w1,b1,w2,b2,w3,b3,hidden_3)"
      ],
      "execution_count": null,
      "outputs": [
        {
          "output_type": "stream",
          "name": "stdout",
          "text": [
            "j is 0, alpha is 0.05, lambda is 0.1\n"
          ]
        }
      ]
    },
    {
      "cell_type": "code",
      "metadata": {
        "colab": {
          "base_uri": "https://localhost:8080/"
        },
        "id": "Ll0M3zO3pKb9",
        "outputId": "091a4ffc-466e-4129-bb31-5c32e84a1b15"
      },
      "source": [
        "a1,a2,a3,a4,a5=fpa_stack(x_te,w1_stack,b1_stack,w2_stack,b2_stack,w3_stack,b3_stack,w4_stack,b4_stack)\n",
        "\n",
        "y_output_actual=hot_decoding(y_te)\n",
        "y_output=hot_decoding(a5)\n",
        "\n",
        "confusion_matrix=pd.crosstab(y_output_actual.flatten(),y_output.flatten())\n",
        "confusion_matrix=np.asarray(confusion_matrix)\n",
        "print(\"Confusion matrix is \")\n",
        "print(confusion_matrix)\n",
        "acc=(confusion_matrix[0][0]+confusion_matrix[1][1]+confusion_matrix[2][2])/len(x_te)*100\n",
        "print(\"Overall accuracy is \",acc)\n",
        "for i in range(3):\n",
        "  acc=confusion_matrix[i][i]/(np.sum(confusion_matrix[i]))\n",
        "  print(f\"Accuracy of class {i+1} :\",acc*100)"
      ],
      "execution_count": null,
      "outputs": [
        {
          "output_type": "stream",
          "name": "stdout",
          "text": [
            "Confusion matrix is \n",
            "[[13  2  1]\n",
            " [ 1 14  0]\n",
            " [ 1  0 10]]\n",
            "Overall accuracy is  88.09523809523809\n",
            "Accuracy of class 1 : 81.25\n",
            "Accuracy of class 2 : 93.33333333333333\n",
            "Accuracy of class 3 : 90.9090909090909\n"
          ]
        }
      ]
    },
    {
      "cell_type": "markdown",
      "metadata": {
        "id": "p7jQpGRw7HsC"
      },
      "source": [
        "Q6. Implement extreme learning machine (ELM) classifier for the classification. You can use Gaussian and tanh activation functions. Please select the training and test instances using 5-fold cross-validation technique Evaluate individual accuracy and overall accuracy. The dataset (data5.xlsx) contains 7 features and the last column is the output (class labels). (Packages such as Scikitlearn, keras, tensorflow, pytorch etc. are not allowed)."
      ]
    },
    {
      "cell_type": "code",
      "metadata": {
        "id": "zSp1t1dz62d6"
      },
      "source": [
        "import numpy as np\n",
        "import pandas as pd\n",
        "import math\n",
        "\n",
        "full_df=pd.read_excel('/content/drive/My Drive/nnfl_assignment_2_data/data5.xlsx',header=None,names=[\"A\",\"B\",\"C\",\"D\",\"E\",\"F\",\"G\",\"class\"])\n",
        "\n",
        "full_df=full_df.values\n",
        "np.random.shuffle(full_df)\n",
        "\n",
        "x_full=full_df[:,0:7]\n",
        "y_full=full_df[:,7:8]\n",
        "\n",
        "x_norm=np.ones((x_full.shape[0],x_full.shape[1]+1))\n",
        "for i in range(x_full.shape[1]):\n",
        "  x_norm[:,i+1:i+2]=(x_full[:,i:i+1]-np.mean(x_full[:,i:i+1]))/np.std(x_full[:,i:i+1])\n",
        "\n",
        "y_norm=np.zeros((len(y_full),3))\n",
        "\n",
        "for i in range(len(y_full)):\n",
        "  if y_full[i][0]==1:\n",
        "    y_norm[i][0]=1\n",
        "  elif y_full[i][0]==2:\n",
        "    y_norm[i][1]=1\n",
        "  elif y_full[i][0]==3:\n",
        "    y_norm[i][2]=1"
      ],
      "execution_count": null,
      "outputs": []
    },
    {
      "cell_type": "code",
      "metadata": {
        "id": "OW872eEG83e3"
      },
      "source": [
        "def divide_tr_te_k_fold(x_norm,y_norm,k):\n",
        "  batch_size=math.floor(len(x_norm)/k)\n",
        "  x_norm_k=[]\n",
        "  y_norm_k=[]\n",
        "  start=0\n",
        "  end=batch_size\n",
        "  for t in range(5):\n",
        "    if(t==4):\n",
        "      x_norm_k.append(x_norm[start:])\n",
        "      y_norm_k.append(y_norm[start:])\n",
        "    else:\n",
        "      x_norm_k.append(x_norm[start:end])\n",
        "      y_norm_k.append(y_norm[start:end])\n",
        "    start=end\n",
        "    end=end+batch_size\n",
        "  return x_norm_k,y_norm_k\n",
        "\n",
        "x_norm_k,y_norm_k=divide_tr_te_k_fold(x_norm,y_norm,5)"
      ],
      "execution_count": null,
      "outputs": []
    },
    {
      "cell_type": "code",
      "metadata": {
        "id": "CbVZtw3085cF"
      },
      "source": [
        "def gaussian(x,sigma):\n",
        "  x.astype('float128')\n",
        "  return np.exp((-1/(2*sigma*sigma))*x)\n",
        "  \n",
        "def tanh(x):\n",
        "  num=np.exp(-1*x)\n",
        "  return (1-num)/(1+num)\n",
        "\n",
        "def elm_gaussian(x,y,hidden,sigma):\n",
        "  random_mat=np.random.randn(x.shape[1],hidden)\n",
        "  h=x@random_mat\n",
        "  h=gaussian(h,sigma)\n",
        "  w=np.linalg.pinv(h)@y\n",
        "  return random_mat,w\n",
        "\n",
        "def elm_tanh(x,y,hidden):\n",
        "  random_mat=np.random.randn(x.shape[1],hidden)\n",
        "  h=x@random_mat\n",
        "  h=tanh(h)\n",
        "  w=np.linalg.pinv(h)@y\n",
        "  return random_mat,w\n",
        "\n",
        "def hot_decoding(matrix):\n",
        "  dec=np.zeros((len(matrix),1))\n",
        "  for i in range(len(matrix)):\n",
        "    dec[i]=np.argmax(matrix[i])+1\n",
        "  return dec\n",
        "\n",
        "def norm(x):\n",
        "  return math.sqrt(np.sum(x**2))"
      ],
      "execution_count": null,
      "outputs": []
    },
    {
      "cell_type": "code",
      "metadata": {
        "id": "pioJO5eH9LS5"
      },
      "source": [
        "def calculate_gaussian(x_tr,y_tr,x_va,y_va,x_te,y_te):\n",
        "  hidden_arr=np.arange(50,2000,50)\n",
        "  sigma_arr=np.arange(0.5,1,0.1)\n",
        "  hidden_max=0\n",
        "  acc_max=0\n",
        "  random_mat_max=0\n",
        "  w_max=0\n",
        "  sigma_max=0\n",
        "  y_te_dec=hot_decoding(y_te)\n",
        "  y_va_dec=hot_decoding(y_va)\n",
        "  for i in range(len(hidden_arr)):\n",
        "    for j in range(len(sigma_arr)):\n",
        "      hidden=hidden_arr[i]\n",
        "      sigma=sigma_arr[j]\n",
        "      random_mat,w=elm_gaussian(x_tr,y_tr,hidden,sigma)\n",
        "\n",
        "      h=x_va@random_mat\n",
        "      h=gaussian(h,sigma)\n",
        "      pred_va=h@w   \n",
        "      pred_va_dec=hot_decoding(pred_va)\n",
        "      confusion_matrix=pd.crosstab(y_va_dec.flatten(),pred_va_dec.flatten())\n",
        "      confusion_matrix=np.asarray(confusion_matrix)\n",
        "\n",
        "      acc=0\n",
        "      for r in range(confusion_matrix.shape[0]):\n",
        "        if r<confusion_matrix.shape[1]:\n",
        "          acc=acc+confusion_matrix[r][r]\n",
        "        else:\n",
        "          break\n",
        "      acc=acc/len(x_te)*100\n",
        "      if acc>=acc_max:\n",
        "        acc_max=acc\n",
        "        hidden_max=hidden\n",
        "        random_mat_max=random_mat\n",
        "        w_max=w\n",
        "        sigma_max=sigma\n",
        "\n",
        "  print(\"Number of hidden neurons are \",hidden_max)\n",
        "  print(\"Sigma for gaussian is \",sigma_max)\n",
        "\n",
        "  h=x_te@random_mat_max\n",
        "  h=gaussian(h,sigma_max)\n",
        "  pred=h@w_max\n",
        "\n",
        "  pred_dec=hot_decoding(pred)\n",
        "  y_te_dec=hot_decoding(y_te)\n",
        "\n",
        "  confusion_matrix=pd.crosstab(y_te_dec.flatten(),pred_dec.flatten())\n",
        "  confusion_matrix=np.asarray(confusion_matrix)\n",
        "  print(\"Confusion matrix is \")\n",
        "  print(confusion_matrix)\n",
        "  acc=(confusion_matrix[0][0]+confusion_matrix[1][1]+confusion_matrix[2][2])/len(x_te)*100\n",
        "  acc1=confusion_matrix[0][0]/(confusion_matrix[0][0]+confusion_matrix[0][1]+confusion_matrix[0][2])*100\n",
        "  acc2=confusion_matrix[1][1]/(confusion_matrix[1][0]+confusion_matrix[1][1]+confusion_matrix[1][2])*100\n",
        "  acc3=confusion_matrix[2][2]/(confusion_matrix[2][0]+confusion_matrix[2][1]+confusion_matrix[2][2])*100\n",
        "  print(\"Overall accuracy is \",acc)\n",
        "  print(\"accuracy of class 1 is \",acc1)\n",
        "  print(\"accuracy of class 2 is \",acc2)\n",
        "  print(\"accuracy of class 3 is \",acc3)\n",
        "\n",
        "  return acc,acc1,acc2,acc3"
      ],
      "execution_count": null,
      "outputs": []
    },
    {
      "cell_type": "code",
      "metadata": {
        "colab": {
          "base_uri": "https://localhost:8080/"
        },
        "id": "68fCZw9M-r6S",
        "outputId": "9e4be173-1e1e-4d22-ce75-520ed9a67ee4"
      },
      "source": [
        "acc_arr=[]\n",
        "c1_arr=[]\n",
        "c2_arr=[]\n",
        "c3_arr=[]\n",
        "for z in range(len(x_norm_k)):\n",
        "  print('For fold ',z+1)\n",
        "  x_te=x_norm_k[z]\n",
        "  y_te=y_norm_k[z]\n",
        "  \n",
        "  x_tr=np.ndarray((0,x_norm_k[z].shape[1]))\n",
        "  y_tr=np.ndarray((0,y_norm_k[z].shape[1]))\n",
        "  for q in range(len(x_norm_k)):\n",
        "    if (z==q):\n",
        "      continue\n",
        "    x_tr=np.concatenate((x_tr,x_norm_k[q]),axis=0)\n",
        "    y_tr=np.concatenate((y_tr,y_norm_k[q]),axis=0)\n",
        "\n",
        "  x_va=x_tr[math.floor(0.9*x_tr.shape[0]):]\n",
        "  y_va=y_tr[math.floor(0.9*y_tr.shape[0]):]\n",
        "\n",
        "  x_tr=x_tr[:math.floor(0.9*x_tr.shape[0])]\n",
        "  y_tr=y_tr[:math.floor(0.9*y_tr.shape[0])]\n",
        "\n",
        "  accuracy,c1_acc,c2_acc,c3_acc=calculate_gaussian(x_tr,y_tr,x_va,y_va,x_te,y_te)\n",
        "  acc_arr.append(accuracy)\n",
        "  c1_arr.append(c1_acc)\n",
        "  c2_arr.append(c2_acc)\n",
        "  c3_arr.append(c3_acc)\n",
        "\n",
        "print('---------------')\n",
        "print('Average overall accuracy is ',sum(acc_arr)/len(acc_arr))\n",
        "print('Average accuracy of class 1 is ',sum(c1_arr)/len(c1_arr))\n",
        "print('Average accuracy of class 2 is ',sum(c2_arr)/len(c2_arr))\n",
        "print('Average accuracy of class 3 is ',sum(c3_arr)/len(c3_arr))\n",
        "print('---------------')"
      ],
      "execution_count": null,
      "outputs": [
        {
          "output_type": "stream",
          "name": "stdout",
          "text": [
            "For fold  1\n",
            "Number of hidden neurons are  50\n",
            "Sigma for gaussian is  0.8999999999999999\n",
            "Confusion matrix is \n",
            "[[12  0  0]\n",
            " [ 1 11  0]\n",
            " [ 0  0 18]]\n",
            "Overall accuracy is  97.61904761904762\n",
            "accuracy of class 1 is  100.0\n",
            "accuracy of class 2 is  91.66666666666666\n",
            "accuracy of class 3 is  100.0\n",
            "For fold  2\n",
            "Number of hidden neurons are  1100\n",
            "Sigma for gaussian is  0.7999999999999999\n",
            "Confusion matrix is \n",
            "[[13  1  3]\n",
            " [ 5  4  2]\n",
            " [ 6  0  8]]\n",
            "Overall accuracy is  59.523809523809526\n",
            "accuracy of class 1 is  76.47058823529412\n",
            "accuracy of class 2 is  36.36363636363637\n",
            "accuracy of class 3 is  57.14285714285714\n",
            "For fold  3\n",
            "Number of hidden neurons are  50\n",
            "Sigma for gaussian is  0.6\n",
            "Confusion matrix is \n",
            "[[ 9  0  1]\n",
            " [ 3 15  0]\n",
            " [ 0  0 14]]\n",
            "Overall accuracy is  90.47619047619048\n",
            "accuracy of class 1 is  90.0\n",
            "accuracy of class 2 is  83.33333333333334\n",
            "accuracy of class 3 is  100.0\n",
            "For fold  4\n",
            "Number of hidden neurons are  50\n",
            "Sigma for gaussian is  0.7999999999999999\n",
            "Confusion matrix is \n",
            "[[12  1  0]\n",
            " [ 2 13  0]\n",
            " [ 2  0 12]]\n",
            "Overall accuracy is  88.09523809523809\n",
            "accuracy of class 1 is  92.3076923076923\n",
            "accuracy of class 2 is  86.66666666666667\n",
            "accuracy of class 3 is  85.71428571428571\n",
            "For fold  5\n",
            "Number of hidden neurons are  100\n",
            "Sigma for gaussian is  0.8999999999999999\n",
            "Confusion matrix is \n",
            "[[16  0  2]\n",
            " [ 0 13  1]\n",
            " [ 1  0  9]]\n",
            "Overall accuracy is  90.47619047619048\n",
            "accuracy of class 1 is  88.88888888888889\n",
            "accuracy of class 2 is  92.85714285714286\n",
            "accuracy of class 3 is  90.0\n",
            "---------------\n",
            "Average overall accuracy is  85.23809523809524\n",
            "Average accuracy of class 1 is  89.53343388637506\n",
            "Average accuracy of class 2 is  78.17748917748918\n",
            "Average accuracy of class 3 is  86.57142857142857\n",
            "---------------\n"
          ]
        }
      ]
    },
    {
      "cell_type": "code",
      "metadata": {
        "id": "VN0uuZ1ICZ_I"
      },
      "source": [
        "def calculate_tanh(x_tr,y_tr,x_va,y_va,x_te,y_te):\n",
        "  hidden_arr=np.arange(50,2000,50)\n",
        "  hidden_max=0\n",
        "  acc_max=0\n",
        "  random_mat_max=0\n",
        "  w_max=0\n",
        "  y_te_dec=hot_decoding(y_te)\n",
        "  y_va_dec=hot_decoding(y_va)\n",
        "\n",
        "  for i in range(len(hidden_arr)):\n",
        "    hidden=hidden_arr[i]\n",
        "    random_mat,w=elm_tanh(x_tr,y_tr,hidden)\n",
        "\n",
        "    h=x_va@random_mat\n",
        "    h=tanh(h)\n",
        "    pred_va=h@w\n",
        "    \n",
        "    pred_va_dec=hot_decoding(pred_va)\n",
        "\n",
        "    confusion_matrix=pd.crosstab(y_va_dec.flatten(),pred_va_dec.flatten())\n",
        "    confusion_matrix=np.asarray(confusion_matrix)\n",
        "    acc=0\n",
        "    for r in range(confusion_matrix.shape[0]):\n",
        "      if r<confusion_matrix.shape[1]:\n",
        "        acc=acc+confusion_matrix[r][r]\n",
        "      else:\n",
        "        break\n",
        "    acc=acc/len(x_te)*100\n",
        "    if acc>=acc_max:\n",
        "      acc_max=acc\n",
        "      hidden_max=hidden\n",
        "      random_mat_max=random_mat\n",
        "      w_max=w\n",
        "\n",
        "  print(\"Number of hidden neurons are \",hidden_max)\n",
        "\n",
        "  h=x_te@random_mat_max\n",
        "  h=tanh(h)\n",
        "  pred=h@w_max\n",
        "\n",
        "  pred_dec=hot_decoding(pred)\n",
        "  y_te_dec=hot_decoding(y_te)\n",
        "\n",
        "  confusion_matrix=pd.crosstab(y_te_dec.flatten(),pred_dec.flatten())\n",
        "  confusion_matrix=np.asarray(confusion_matrix)\n",
        "  print(\"Confusion matrix is \")\n",
        "  print(confusion_matrix)\n",
        "  \n",
        "  acc=(confusion_matrix[0][0]+confusion_matrix[1][1]+confusion_matrix[2][2])/len(x_te)*100\n",
        "  acc1=confusion_matrix[0][0]/(confusion_matrix[0][0]+confusion_matrix[0][1]+confusion_matrix[0][2])*100\n",
        "  acc2=confusion_matrix[1][1]/(confusion_matrix[1][0]+confusion_matrix[1][1]+confusion_matrix[1][2])*100\n",
        "  acc3=confusion_matrix[2][2]/(confusion_matrix[2][0]+confusion_matrix[2][1]+confusion_matrix[2][2])*100\n",
        "  print(\"Overall accuracy is \",acc)\n",
        "  print(\"Accuracy of class 1 is \",acc1)\n",
        "  print(\"Accuracy of class 2 is \",acc2)\n",
        "  print(\"Accuracy of class 3 is \",acc3)\n",
        "\n",
        "  return acc,acc1,acc2,acc3"
      ],
      "execution_count": null,
      "outputs": []
    },
    {
      "cell_type": "code",
      "metadata": {
        "colab": {
          "base_uri": "https://localhost:8080/"
        },
        "id": "k0Kqy9B2DDkb",
        "outputId": "96654071-6c1f-4587-cfaf-c18f388e1208"
      },
      "source": [
        "acc_arr=[]\n",
        "c1_arr=[]\n",
        "c2_arr=[]\n",
        "c3_arr=[]\n",
        "for z in range(len(x_norm_k)):\n",
        "  print('For fold ',z+1)\n",
        "  x_te=x_norm_k[z]\n",
        "  y_te=y_norm_k[z]\n",
        "  \n",
        "  x_tr=np.ndarray((0,x_norm_k[z].shape[1]))\n",
        "  y_tr=np.ndarray((0,y_norm_k[z].shape[1]))\n",
        "  for q in range(len(x_norm_k)):\n",
        "    if (z==q):\n",
        "      continue\n",
        "    x_tr=np.concatenate((x_tr,x_norm_k[q]),axis=0)\n",
        "    y_tr=np.concatenate((y_tr,y_norm_k[q]),axis=0)\n",
        "\n",
        "  x_va=x_tr[math.floor(0.9*x_tr.shape[0]):]\n",
        "  y_va=y_tr[math.floor(0.9*y_tr.shape[0]):]\n",
        "\n",
        "  x_tr=x_tr[:math.floor(0.9*x_tr.shape[0])]\n",
        "  y_tr=y_tr[:math.floor(0.9*y_tr.shape[0])]\n",
        "\n",
        "  accuracy,c1_acc,c2_acc,c3_acc=calculate_tanh(x_tr,y_tr,x_va,y_va,x_te,y_te)\n",
        "  acc_arr.append(accuracy)\n",
        "  c1_arr.append(c1_acc)\n",
        "  c2_arr.append(c2_acc)\n",
        "  c3_arr.append(c3_acc)\n",
        "\n",
        "print('---------------')\n",
        "print('Average overall accuracy is ',sum(acc_arr)/len(acc_arr))\n",
        "print('Average accuracy of class 1 is ',sum(c1_arr)/len(c1_arr))\n",
        "print('Average accuracy of class 2 is ',sum(c2_arr)/len(c2_arr))\n",
        "print('Average accuracy of class 3 is ',sum(c3_arr)/len(c3_arr))\n",
        "print('---------------')"
      ],
      "execution_count": null,
      "outputs": [
        {
          "output_type": "stream",
          "name": "stdout",
          "text": [
            "For fold  1\n",
            "Number of hidden neurons are  1700\n",
            "Confusion matrix is \n",
            "[[12  0  0]\n",
            " [ 0 12  0]\n",
            " [ 2  0 16]]\n",
            "Overall accuracy is  95.23809523809523\n",
            "Accuracy of class 1 is  100.0\n",
            "Accuracy of class 2 is  100.0\n",
            "Accuracy of class 3 is  88.88888888888889\n",
            "For fold  2\n",
            "Number of hidden neurons are  1950\n",
            "Confusion matrix is \n",
            "[[14  0  3]\n",
            " [ 0 11  0]\n",
            " [ 0  0 14]]\n",
            "Overall accuracy is  92.85714285714286\n",
            "Accuracy of class 1 is  82.35294117647058\n",
            "Accuracy of class 2 is  100.0\n",
            "Accuracy of class 3 is  100.0\n",
            "For fold  3\n",
            "Number of hidden neurons are  1900\n",
            "Confusion matrix is \n",
            "[[ 7  1  2]\n",
            " [ 1 17  0]\n",
            " [ 0  0 14]]\n",
            "Overall accuracy is  90.47619047619048\n",
            "Accuracy of class 1 is  70.0\n",
            "Accuracy of class 2 is  94.44444444444444\n",
            "Accuracy of class 3 is  100.0\n",
            "For fold  4\n",
            "Number of hidden neurons are  1350\n",
            "Confusion matrix is \n",
            "[[10  0  3]\n",
            " [ 0 15  0]\n",
            " [ 1  0 13]]\n",
            "Overall accuracy is  90.47619047619048\n",
            "Accuracy of class 1 is  76.92307692307693\n",
            "Accuracy of class 2 is  100.0\n",
            "Accuracy of class 3 is  92.85714285714286\n",
            "For fold  5\n",
            "Number of hidden neurons are  1550\n",
            "Confusion matrix is \n",
            "[[13  2  3]\n",
            " [ 0 14  0]\n",
            " [ 1  0  9]]\n",
            "Overall accuracy is  85.71428571428571\n",
            "Accuracy of class 1 is  72.22222222222221\n",
            "Accuracy of class 2 is  100.0\n",
            "Accuracy of class 3 is  90.0\n",
            "---------------\n",
            "Average overall accuracy is  90.95238095238095\n",
            "Average accuracy of class 1 is  80.29964806435395\n",
            "Average accuracy of class 2 is  98.88888888888889\n",
            "Average accuracy of class 3 is  94.34920634920636\n",
            "---------------\n"
          ]
        }
      ]
    },
    {
      "cell_type": "markdown",
      "metadata": {
        "id": "vBk-qW4LK5PZ"
      },
      "source": [
        "Q7. Implement a deep neural network, which contains two hidden layers (the hidden layers are obtained from the ELM-autoencoders). The last layer will be the ELM layer which means the second hidden layer feature vector is used as input to the ELM classifier. The network can be called as deep layer stacked autoencoder based extreme learning machine. You can use holdout approach (70, 10, 20%) for evaluating the performance of the classifier. The dataset (data5.xlsx) contains 7 features and the last column is the output (class labels). Evaluate individual accuracy and overall accuracy. (Packages such as Scikitlearn, keras, tensorflow, pytorch etc. are not allowed)"
      ]
    },
    {
      "cell_type": "code",
      "metadata": {
        "id": "SmRtcBe4K815"
      },
      "source": [
        "import numpy as np\n",
        "import pandas as pd\n",
        "import math\n",
        "\n",
        "full_df=pd.read_excel('/content/drive/My Drive/nnfl_assignment_2_data/data5.xlsx',header=None,names=[\"A\",\"B\",\"C\",\"D\",\"E\",\"F\",\"G\",\"class\"])\n",
        "\n",
        "full_df=full_df.values\n",
        "np.random.shuffle(full_df)\n",
        "\n",
        "x_full=full_df[:,0:7]\n",
        "y_full=full_df[:,7:8]\n",
        "\n",
        "x_norm=np.ones((x_full.shape[0],x_full.shape[1]+1))\n",
        "for i in range(x_full.shape[1]):\n",
        "  x_norm[:,i+1:i+2]=(x_full[:,i:i+1]-np.mean(x_full[:,i:i+1]))/np.std(x_full[:,i:i+1])\n",
        "\n",
        "y_norm=np.zeros((len(y_full),3))\n",
        "\n",
        "for i in range(len(y_full)):\n",
        "  if y_full[i][0]==1:\n",
        "    y_norm[i][0]=1\n",
        "  elif y_full[i][0]==2:\n",
        "    y_norm[i][1]=1\n",
        "  elif y_full[i][0]==3:\n",
        "    y_norm[i][2]=1"
      ],
      "execution_count": null,
      "outputs": []
    },
    {
      "cell_type": "code",
      "metadata": {
        "id": "M7x1PAgWK9gj"
      },
      "source": [
        "def divide_tr_va_te(x_norm,y_norm):\n",
        "  x_tr=x_norm[:math.floor(0.7*x_norm.shape[0])]\n",
        "  x_va=x_norm[math.floor(0.7*x_norm.shape[0]):math.floor(0.8*x_norm.shape[0])]\n",
        "  x_te=x_norm[math.floor(0.8*x_norm.shape[0]):]\n",
        "\n",
        "  y_tr=y_norm[:math.floor(0.7*y_norm.shape[0])]\n",
        "  y_va=y_norm[math.floor(0.7*y_norm.shape[0]):math.floor(0.8*y_norm.shape[0])]\n",
        "  y_te=y_norm[math.floor(0.8*y_norm.shape[0]):]\n",
        "  return x_tr,x_va,x_te,y_tr,y_va,y_te\n",
        "\n",
        "x_tr,x_va,x_te,y_tr,y_va,y_te=divide_tr_va_te(x_norm,y_norm)"
      ],
      "execution_count": null,
      "outputs": []
    },
    {
      "cell_type": "code",
      "metadata": {
        "id": "sy9n2ABZLTk1"
      },
      "source": [
        "def sigmoid(x):\n",
        "  return 1/(1+np.exp(-x))\n",
        "\n",
        "def elm(x,y,hidden):\n",
        "  random_mat=np.random.randn(x.shape[1],hidden)\n",
        "  h=x@random_mat\n",
        "  h=sigmoid(h)\n",
        "\n",
        "  w=np.linalg.pinv(h)@y\n",
        "  return random_mat,w\n",
        "\n",
        "def hot_decoding(mat):\n",
        "  dec=np.zeros((len(mat),1))\n",
        "  for i in range(len(mat)):\n",
        "    dec[i]=np.argmax(mat[i])+1\n",
        "  return dec\n",
        "\n",
        "def error(pred,act):\n",
        "  return np.mean(np.mean((pred-act)**2,axis=1))"
      ],
      "execution_count": null,
      "outputs": []
    },
    {
      "cell_type": "code",
      "metadata": {
        "id": "_xt48g9OLTVQ"
      },
      "source": [
        "def autoencoder(x_tr,x_va,min_hidden,max_hidden):\n",
        "  hidden_arr=np.arange(min_hidden,max_hidden,50)\n",
        "  hidden_max=0\n",
        "  err_min=float('inf')\n",
        "  random_mat_max=-1\n",
        "  w_max=-1\n",
        "\n",
        "  y_te_dec=hot_decoding(y_te)\n",
        "\n",
        "  for i in range(len(hidden_arr)):\n",
        "      hidden=hidden_arr[i]\n",
        "      random_mat,w=elm(x_tr,x_tr,hidden)\n",
        "\n",
        "      h=x_va@random_mat\n",
        "      h=sigmoid(h)\n",
        "      pred_va=h@w\n",
        "\n",
        "      err=error(pred_va,x_va)\n",
        "      if err<=err_min:\n",
        "          err_min=err       \n",
        "          random_mat_max=random_mat\n",
        "          w_max=w\n",
        "          hidden_max=hidden\n",
        "          \n",
        "  print(\"number of hidden neurons are \",hidden_max)\n",
        "  return w_max,err_min,hidden_max"
      ],
      "execution_count": null,
      "outputs": []
    },
    {
      "cell_type": "code",
      "metadata": {
        "colab": {
          "base_uri": "https://localhost:8080/"
        },
        "id": "ewBHRZrRLu_R",
        "outputId": "3473db99-27a1-4fa2-b692-83364237dd15"
      },
      "source": [
        "w1,err1,hidden1=autoencoder(x_tr,x_va,50,2000)"
      ],
      "execution_count": null,
      "outputs": [
        {
          "output_type": "stream",
          "name": "stdout",
          "text": [
            "number of hidden neurons are  1700\n"
          ]
        }
      ]
    },
    {
      "cell_type": "code",
      "metadata": {
        "id": "S2d0mw02L3zY"
      },
      "source": [
        "def encode(x,w):\n",
        "  return x@w.T"
      ],
      "execution_count": null,
      "outputs": []
    },
    {
      "cell_type": "code",
      "metadata": {
        "colab": {
          "base_uri": "https://localhost:8080/"
        },
        "id": "KGLZcMafL7FO",
        "outputId": "1c6cfe1f-998a-45a8-b304-9f51317ff05d"
      },
      "source": [
        "h_tr=encode(x_tr,w1)\n",
        "h_va=encode(x_va,w1)\n",
        "\n",
        "w2,err2,hidden2=autoencoder(h_tr,h_va,50,hidden1)"
      ],
      "execution_count": null,
      "outputs": [
        {
          "output_type": "stream",
          "name": "stdout",
          "text": [
            "number of hidden neurons are  750\n"
          ]
        }
      ]
    },
    {
      "cell_type": "code",
      "metadata": {
        "id": "YEX0R_75L64F"
      },
      "source": [
        "h2_tr=encode(h_tr,w2)\n",
        "h2_va=encode(h_va,w2)"
      ],
      "execution_count": null,
      "outputs": []
    },
    {
      "cell_type": "code",
      "metadata": {
        "colab": {
          "base_uri": "https://localhost:8080/"
        },
        "id": "dHO1Qg3dL6xL",
        "outputId": "a7ccc87c-9c34-400b-c788-3f0f7f089a98"
      },
      "source": [
        "min_hidden=50\n",
        "max_hidden=2000\n",
        "hidden_arr=np.arange(min_hidden,max_hidden,50)\n",
        "hidden_max=0\n",
        "err_min=float('inf')\n",
        "random_mat_max=-1\n",
        "w_max=-1\n",
        "\n",
        "for i in range(len(hidden_arr)):\n",
        "      hidden=hidden_arr[i]\n",
        "      random_mat,w=elm(h2_tr,y_tr,hidden)\n",
        "\n",
        "      h=h2_va@random_mat\n",
        "      h=sigmoid(h)\n",
        "      pred_va=h@w\n",
        "\n",
        "      err=error(pred_va,y_va)\n",
        "      if err<=err_min:\n",
        "          err_min=err\n",
        "          random_mat_max=random_mat\n",
        "          w_max=w\n",
        "          hidden_max=hidden\n",
        "\n",
        "print(\"number of hidden neurons are \",hidden_max)"
      ],
      "execution_count": null,
      "outputs": [
        {
          "output_type": "stream",
          "name": "stdout",
          "text": [
            "number of hidden neurons are  50\n"
          ]
        }
      ]
    },
    {
      "cell_type": "code",
      "metadata": {
        "id": "ZbNhAZtKMfPs"
      },
      "source": [
        "def test_result():\n",
        "  h1_te=encode(x_te,w1)\n",
        "  h2_te=encode(h1_te,w2)\n",
        "\n",
        "  h=h2_te@random_mat_max\n",
        "  h=sigmoid(h)\n",
        "  pred=h@w_max\n",
        "\n",
        "  pred_dec=hot_decoding(pred)\n",
        "  y_te_dec=hot_decoding(y_te)\n",
        "\n",
        "  confusion_matrix=pd.crosstab(y_te_dec.flatten(),pred_dec.flatten())\n",
        "  confusion_matrix=np.asarray(confusion_matrix)\n",
        "  print(\"Confusion matrix is \")\n",
        "  print(confusion_matrix)\n",
        "\n",
        "  print(\"Overall accuracy is \",(confusion_matrix[0][0]+confusion_matrix[1][1]+confusion_matrix[2][2])/len(x_te)*100);\n",
        "  print(\"accuracy of class 1 is \",confusion_matrix[0][0]/(confusion_matrix[0][0]+confusion_matrix[0][1]+confusion_matrix[0][2])*100);\n",
        "  print(\"accuracy of class 2 is \",confusion_matrix[1][1]/(confusion_matrix[1][0]+confusion_matrix[1][1]+confusion_matrix[1][2])*100);\n",
        "  print(\"accuracy of class 3 is \",confusion_matrix[2][2]/(confusion_matrix[2][0]+confusion_matrix[2][1]+confusion_matrix[2][2])*100);"
      ],
      "execution_count": null,
      "outputs": []
    },
    {
      "cell_type": "code",
      "metadata": {
        "colab": {
          "base_uri": "https://localhost:8080/"
        },
        "id": "OtIZ_h66Mvn4",
        "outputId": "d5f14503-2c8c-4866-fa8f-6de83e2c1a76"
      },
      "source": [
        "test_result()"
      ],
      "execution_count": null,
      "outputs": [
        {
          "output_type": "stream",
          "name": "stdout",
          "text": [
            "Confusion matrix is \n",
            "[[11  0  2]\n",
            " [ 0 14  0]\n",
            " [ 3  0 12]]\n",
            "Overall accuracy is  88.09523809523809\n",
            "accuracy of class 1 is  84.61538461538461\n",
            "accuracy of class 2 is  100.0\n",
            "accuracy of class 3 is  80.0\n"
          ]
        }
      ]
    },
    {
      "cell_type": "markdown",
      "metadata": {
        "id": "4elZuTVrA6vC"
      },
      "source": [
        "Q8. Implement support vector machine (SVM) classifier for the multi-class classification task. You can use one vs one and one vs all multiclass coding methods to create binary SVM models. Implement the SMO algorithm for the evaluation of the training parameters of SVM such as Lagrange multipliers. You can use holdout approach (70%, 10%, 20%) for evaluating the performance of the classifier. The dataset (data5.xlsx) contains 7 features and the last column is the output (class labels). Evaluate individual accuracy and overall accuracy. You can use RBF and polynomial kernels. Evaluate the classification performance of multiclass SVM for each kernel function. (Packages such as Scikitlearn, keras, tensorflow, pytorch etc. are not allowed)"
      ]
    },
    {
      "cell_type": "code",
      "metadata": {
        "id": "YCShPVB7A7cX"
      },
      "source": [
        "import numpy as np\n",
        "import pandas as pd\n",
        "import math\n",
        "import random as rand\n",
        "\n",
        "full=pd.read_excel('/content/drive/My Drive/nnfl_assignment_2_data/data5.xlsx',header=None,names=[\"A\",\"B\",\"C\",\"D\",\"E\",\"F\",\"G\",\"class\"])\n",
        "\n",
        "full=full.values\n",
        "np.random.shuffle(full)\n",
        "\n",
        "x_full=full[:,0:7]\n",
        "y_full=full[:,7:8]\n",
        "\n",
        "x_norm=np.ones((x_full.shape[0],x_full.shape[1]+1))\n",
        "for i in range(x_full.shape[1]):\n",
        "  x_norm[:,i+1:i+2]=(x_full[:,i:i+1]-np.mean(x_full[:,i:i+1]))/np.std(x_full[:,i:i+1])\n",
        "\n",
        "def divide_tr_va_te(x_norm,y_norm):\n",
        "  x_tr=x_norm[:math.floor(0.7*x_norm.shape[0])]\n",
        "  x_va=x_norm[math.floor(0.7*x_norm.shape[0]):math.floor(0.8*x_norm.shape[0])]\n",
        "  x_te=x_norm[math.floor(0.8*x_norm.shape[0]):]\n",
        "\n",
        "  y_tr=y_norm[:math.floor(0.7*y_norm.shape[0])]\n",
        "  y_va=y_norm[math.floor(0.7*y_norm.shape[0]):math.floor(0.8*y_norm.shape[0])]\n",
        "  y_te=y_norm[math.floor(0.8*y_norm.shape[0]):]\n",
        "  return x_tr,x_va,x_te,y_tr,y_va,y_te\n",
        "\n",
        "x_tr,x_va,x_te,y_tr,y_va,y_te=divide_tr_va_te(x_norm,y_full)"
      ],
      "execution_count": 35,
      "outputs": []
    },
    {
      "cell_type": "code",
      "metadata": {
        "id": "33CNuYOssd10"
      },
      "source": [
        "def train_SVM(X,Y,test,y_test,K,C,maxiter) :\n",
        "  b=0\n",
        "  itr=0\n",
        "  m=X.shape[0]\n",
        "  e=np.zeros((X.shape[0],1))\n",
        "  mus=np.zeros((X.shape[0],1))\n",
        "  bound=0.0001\n",
        "  L=0\n",
        "  H=0\n",
        "  while (itr<maxiter):\n",
        "      cnt=0\n",
        "      for i in range(X.shape[0]):\n",
        "          e[i]=b+np.sum((mus*Y)*K[:,i])-Y[i]\n",
        "          if ((Y[i]*e[i]<-1*bound and mus[i]<C) or (Y[i]*e[i]>bound and mus[i]>0)):\n",
        "              j=np.random.randint(0,len(X))\n",
        "              while j==i:  \n",
        "                  j=np.random.randint(0,len(X))\n",
        "              \n",
        "              e[j]=b+np.sum((mus*Y)*K[:,j].reshape(-1,1))-Y[j]\n",
        "              mu_i_old=mus[i]\n",
        "              mu_j_old=mus[j]\n",
        "              if (Y[i]==Y[j]):\n",
        "                  L=max(0,mus[i] + mus[j] - C)\n",
        "                  H=min(C,mus[i] + mus[j])\n",
        "              else:\n",
        "                  L=max(0,mus[j]-mus[i])\n",
        "                  H=min(C, C - mus[i] + mus[j])\n",
        "\n",
        "              if (L==H):\n",
        "                  continue\n",
        "\n",
        "              eta=2*K[i][j]-K[i][i]-K[j][j]\n",
        "              if (eta>=0):\n",
        "                  continue\n",
        "              \n",
        "              mus[j]= mus[j]-((Y[j]*(e[i]-e[j]))/eta)\n",
        "              mus[j]= min(H,mus[j])\n",
        "              mus[j]= max(L,mus[j])\n",
        "              if (abs(mus[j]-mu_j_old)<bound):\n",
        "                  mus[j]=mu_j_old\n",
        "                  continue\n",
        "              mus[i]= mus[i] + (Y[i] * Y[j] * (-mus[j] + mus_j_old))\n",
        "              b1=b-e[i]-Y[i]*(mus[i]-mu_i_old)*K[i][j]-Y[j]*(mus[j]-mus[i])*K[i][j]\n",
        "              b2=b-e[j]-Y[i]*(mus[i]-mu_i_old)*K[i][j]-Y[j]*(mus[j]-mus[i])*K[j][j]\n",
        "              if (mus[i]>0 and mus[i]<C):\n",
        "                  b=b1\n",
        "              elif (mus[j]>0 and mus[j]<C):\n",
        "                  b=b2\n",
        "              else:\n",
        "                  b=(b1+b2)/2\n",
        "\n",
        "              cnt += 1\n",
        "      if(cnt==0):\n",
        "          itr+=1\n",
        "      else:\n",
        "          itr=0\n",
        "  Xsvm=[]\n",
        "  Ysvm=[]\n",
        "  mus_pos=[]\n",
        "  for i in range(mus.shape[0]):\n",
        "      if mus[i]>0:\n",
        "          Ysvm.append(Y[ i])\n",
        "          Xsvm.append(X[i,:])\n",
        "          mus_pos.append(mus[i])\n",
        "  Xsvm=np.array(Xsvm)\n",
        "  Ysvm=np.array(Ysvm)\n",
        "  mus_pos=np.array(mus_pos)\n",
        "\n",
        "  w=np.dot((mus_pos*Ysvm).T,Xsvm).T\n",
        "\n",
        "  return Xsvm,Ysvm,mus_pos,w,b"
      ],
      "execution_count": 36,
      "outputs": []
    },
    {
      "cell_type": "code",
      "metadata": {
        "id": "U2UgA_YHsdxr"
      },
      "source": [
        "def wrong_pred(pred,act):\n",
        "  wrong=0\n",
        "  for t in range(len(pred)):\n",
        "    if(pred[t]!=act[t]):\n",
        "      wrong+=1\n",
        "  return wrong"
      ],
      "execution_count": 37,
      "outputs": []
    },
    {
      "cell_type": "code",
      "metadata": {
        "id": "Q0qiuL-AsdWu"
      },
      "source": [
        "def run_svm(x_tr,y_tr,x_va,y_va,x_te,y_te,k):\n",
        "  C_arr=[0.01,0.1,1,10]\n",
        "  maxiter_arr=[500]\n",
        "  wrong_min=float('inf')\n",
        "  w_min=-1\n",
        "  b_min=-1\n",
        "  C_min=-1\n",
        "  maxiter_min=-1\n",
        "  for i in range(len(C_arr)):\n",
        "    for j in range(len(maxiter_arr)):\n",
        "      Xsvm,Ysvm,mus_pos,w,b=train_SVM(x_tr,y_tr,x_te,y_te,K=k,C=C_arr[i],maxiter=maxiter_arr[j])\n",
        "\n",
        "      temp=x_va@w+b\n",
        "      pred=np.zeros(temp.shape)\n",
        "\n",
        "      for t in range(len(temp)):\n",
        "        if temp[t]>0:\n",
        "          pred[t]=1\n",
        "        else:\n",
        "          pred[t]=-1\n",
        "      wrong=wrong_pred(pred,y_va)\n",
        "      if wrong<wrong_min:\n",
        "        wrong_min=wrong\n",
        "        w_min=w\n",
        "        b_min=b\n",
        "        C_min=C_arr[i]\n",
        "        maxiter_min=maxiter_arr[j]\n",
        "\n",
        "  temp=x_te@w_min+b_min\n",
        "  pred=np.zeros(temp.shape)\n",
        "\n",
        "  for t in range(len(temp)):\n",
        "    if temp[t]>0:\n",
        "      pred[t]=1\n",
        "    else:\n",
        "      pred[t]=-1\n",
        "  wrong=wrong_pred(pred,y_te) \n",
        "  acc=(y_te.shape[0]-wrong)/y_te.shape[0]*100\n",
        "  print('acc is ',acc)\n",
        "  return acc,temp,pred"
      ],
      "execution_count": 38,
      "outputs": []
    },
    {
      "cell_type": "code",
      "metadata": {
        "id": "SjY-KBlnsdSC"
      },
      "source": [
        "def one_vs_all(k):\n",
        "  y_pred_all=[]\n",
        "  acc_arr=[]\n",
        "  for model in range(3):\n",
        "    y_tr_1=np.zeros((len(y_tr),1))\n",
        "    for i in range(len(y_tr)):\n",
        "      if y_tr[i]==(model+1):\n",
        "        y_tr_1[i]=1\n",
        "      else:\n",
        "        y_tr_1[i]=-1\n",
        "\n",
        "    y_va_1=np.zeros((len(y_va),1))\n",
        "    for i in range(len(y_va)):\n",
        "      if y_va[i]==(model+1):\n",
        "        y_va_1[i]=1\n",
        "      else:\n",
        "        y_va_1[i]=-1\n",
        "\n",
        "    y_te_1=np.zeros((len(y_te),1))\n",
        "    for i in range(len(y_te)):\n",
        "      if y_te[i]==(model+1):\n",
        "        y_te_1[i]=1\n",
        "      else:\n",
        "        y_te_1[i]=-1    \n",
        "    \n",
        "    acc,temp,pred=run_svm(x_tr,y_tr_1,x_va,y_va_1,x_te,y_te_1,k)\n",
        "    y_pred_all.append(temp)\n",
        "    acc_arr.append(acc)\n",
        "  return y_pred_all,acc_arr"
      ],
      "execution_count": 39,
      "outputs": []
    },
    {
      "cell_type": "code",
      "metadata": {
        "id": "lC-Ek2vBsdMZ"
      },
      "source": [
        "def perform_one_vs_all(k):\n",
        "  y_pred_all,acc_arr=one_vs_all(k)\n",
        "  y_overall=np.zeros(y_te.shape)\n",
        "\n",
        "  y_all=np.concatenate((y_pred_all[0],y_pred_all[1],y_pred_all[2]),axis=1)\n",
        "\n",
        "  for i in range(len(y_overall)):\n",
        "    y_overall[i]=np.argmax(y_all[i])+1\n",
        "\n",
        "  confusion_matrix=pd.crosstab(y_te.flatten(),y_overall.flatten())\n",
        "  confusion_matrix=np.asarray(confusion_matrix)\n",
        "  print(\"Confusion matrix is \")\n",
        "  print(confusion_matrix)\n",
        "  acc=(confusion_matrix[0][0]+confusion_matrix[1][1]+confusion_matrix[2][2])/len(x_te)*100\n",
        "  print(\"Overall accuracy is \",acc)\n",
        "  print(\"accuracy of class 1 is \",confusion_matrix[0][0]/(confusion_matrix[0][0]+confusion_matrix[0][1]+confusion_matrix[0][2])*100)\n",
        "  print(\"accuracy of class 2 is \",confusion_matrix[1][1]/(confusion_matrix[1][0]+confusion_matrix[1][1]+confusion_matrix[1][2])*100)\n",
        "  print(\"accuracy of class 3 is \",confusion_matrix[2][2]/(confusion_matrix[2][0]+confusion_matrix[2][1]+confusion_matrix[2][2])*100)"
      ],
      "execution_count": 40,
      "outputs": []
    },
    {
      "cell_type": "code",
      "metadata": {
        "id": "HU3oph50sdHa"
      },
      "source": [
        "def kernel_poly(x_tr,degree):\n",
        "  k=(x_tr@x_tr.T)**degree\n",
        "  return k\n",
        "\n",
        "def dist(x,z):\n",
        "  d=np.sum((x-z)**2)\n",
        "  return math.sqrt(d)\n",
        "\n",
        "def kernel_rbf(x_tr):\n",
        "  sigma=1\n",
        "  k=np.zeros((len(x_tr),len(x_tr)))\n",
        "  for i in range(len(x_tr)):\n",
        "    for j in range(len(x_tr)):\n",
        "      k[i][j]=np.exp(-0.5*dist(x_tr[i],x_tr[j])/(sigma**2))\n",
        "  return k"
      ],
      "execution_count": 47,
      "outputs": []
    },
    {
      "cell_type": "code",
      "metadata": {
        "colab": {
          "base_uri": "https://localhost:8080/"
        },
        "id": "d9clgmjYzU2E",
        "outputId": "1810bb68-1491-44c3-dc7a-3b73c24b84a8"
      },
      "source": [
        "k_linear=x_tr@x_tr.T\n",
        "perform_one_vs_all(k_linear)"
      ],
      "execution_count": 42,
      "outputs": [
        {
          "output_type": "stream",
          "name": "stdout",
          "text": [
            "acc is  64.28571428571429\n",
            "acc is  97.61904761904762\n",
            "acc is  92.85714285714286\n",
            "Confusion matrix is \n",
            "[[ 9  1  3]\n",
            " [ 0 15  0]\n",
            " [ 0  0 14]]\n",
            "Overall accuracy is  90.47619047619048\n",
            "accuracy of class 1 is  69.23076923076923\n",
            "accuracy of class 2 is  100.0\n",
            "accuracy of class 3 is  100.0\n"
          ]
        }
      ]
    },
    {
      "cell_type": "code",
      "metadata": {
        "id": "cawsaON_zUwP"
      },
      "source": [
        "def run_svm_ovo(x_tr,y_tr,x_va,y_va,x_te,y_te,x_te_full,y_te_full,model_num,model_num_2,k):\n",
        "  C_arr=[0.01,0.1,1,10]\n",
        "  maxiter_arr=[500]\n",
        "  wrong_min=float('inf')\n",
        "  w_min=-1\n",
        "  b_min=-1\n",
        "  C_min=-1\n",
        "  maxiter_min=-1\n",
        "  for i in range(len(C_arr)):\n",
        "    for j in range(len(maxiter_arr)):\n",
        "      Xsvm,Ysvm,mus_pos,w,b=train_SVM(x_tr,y_tr,x_te,y_te,K=k,C=C_arr[i],maxiter=maxiter_arr[j])\n",
        "\n",
        "      temp=x_va@w+b\n",
        "      pred=np.zeros(temp.shape)\n",
        "\n",
        "      for t in range(len(temp)):\n",
        "        if temp[t]>0:\n",
        "          pred[t]=1\n",
        "        else:\n",
        "          pred[t]=-1\n",
        "      wrong=wrong_pred(pred,y_va)\n",
        "      if wrong<wrong_min:\n",
        "        wrong_min=wrong\n",
        "        w_min=w\n",
        "        b_min=b\n",
        "        C_min=C_arr[i]\n",
        "        maxiter_min=maxiter_arr[j]\n",
        "\n",
        "  temp=x_te_full@w_min+b_min\n",
        "  pred=np.zeros(temp.shape)\n",
        "\n",
        "  for t in range(len(temp)):\n",
        "    if temp[t]>0:\n",
        "      pred[t]=model_num_2\n",
        "    else:\n",
        "      pred[t]=model_num\n",
        "  temp_curr=x_te@w_min+b_min\n",
        "  pred_curr=np.zeros(temp_curr.shape)\n",
        "\n",
        "  for t in range(len(temp_curr)):\n",
        "    if temp_curr[t]>0:\n",
        "      pred_curr[t]=1\n",
        "    else:\n",
        "      pred_curr[t]=-1\n",
        "  wrong=wrong_pred(pred_curr,y_te) \n",
        "  acc=(y_te.shape[0]-wrong)/y_te.shape[0]*100 \n",
        "  print('acc is ',acc)\n",
        "  return acc,temp,pred"
      ],
      "execution_count": 43,
      "outputs": []
    },
    {
      "cell_type": "code",
      "metadata": {
        "id": "Pk8xdYkdzUqM"
      },
      "source": [
        "def one_vs_one(kernel,degree):\n",
        "  y_pred_all=[]\n",
        "  acc_arr=[]\n",
        "  for model_num in range(1,3):\n",
        "    for model_num_2 in range(model_num+1,4):\n",
        "      x_norm_now=np.ndarray((0,x_norm.shape[1]))\n",
        "      y_norm_now=np.ndarray((0,1))\n",
        "      for y_index in range(len(y_full)):\n",
        "        if y_full[y_index][0]==float(model_num) or y_full[y_index][0]==model_num:\n",
        "          y_norm_now=np.concatenate((y_norm_now,-1*np.ones((1,1))),axis=0)\n",
        "          x_norm_now=np.concatenate((x_norm_now,x_norm[y_index].reshape((1,x_norm.shape[1]))),axis=0)\n",
        "        elif y_full[y_index][0]==float(model_num_2) or y_full[y_index][0]==model_num_2:\n",
        "          y_norm_now=np.concatenate((y_norm_now,np.ones((1,1))),axis=0)\n",
        "          x_norm_now=np.concatenate((x_norm_now,x_norm[y_index].reshape((1,x_norm.shape[1]))),axis=0)\n",
        "\n",
        "      x_tr_,x_va_,x_te_,y_tr_,y_va_,y_te_=divide_tr_va_te(x_norm_now,y_norm_now)\n",
        "    \n",
        "      if kernel=='linear':\n",
        "        k=x_tr_@x_tr_.T\n",
        "      elif kernel=='rbf':\n",
        "        # print('RBF')\n",
        "        k=kernel_rbf(x_tr_)\n",
        "      else:\n",
        "        k=kernel_poly(x_tr_,degree)\n",
        "      \n",
        "      acc,temp,pred=run_svm_ovo(x_tr_,y_tr_,x_va_,y_va_,x_te_,y_te_,x_te,y_te,model_num,model_num_2,k)\n",
        "      y_pred_all.append(temp)\n",
        "      acc_arr.append(acc)\n",
        "  return y_pred_all,acc_arr"
      ],
      "execution_count": 56,
      "outputs": []
    },
    {
      "cell_type": "code",
      "metadata": {
        "colab": {
          "base_uri": "https://localhost:8080/"
        },
        "id": "NEBA1ng-zUkR",
        "outputId": "cab1ec0a-d58f-45cc-c217-3dcc6e8880cf"
      },
      "source": [
        "y_pred_all,acc_arr=one_vs_one('linear',0)"
      ],
      "execution_count": 45,
      "outputs": [
        {
          "output_type": "stream",
          "name": "stdout",
          "text": [
            "acc is  78.57142857142857\n",
            "acc is  67.85714285714286\n",
            "acc is  100.0\n"
          ]
        }
      ]
    },
    {
      "cell_type": "code",
      "metadata": {
        "colab": {
          "base_uri": "https://localhost:8080/"
        },
        "id": "h7wgzO7kzUek",
        "outputId": "545e36f6-dd2b-45e1-8ad7-e47bc06af50e"
      },
      "source": [
        "k_rbf=kernel_rbf(x_tr)\n",
        "perform_one_vs_all(k_rbf)"
      ],
      "execution_count": 48,
      "outputs": [
        {
          "output_type": "stream",
          "name": "stdout",
          "text": [
            "acc is  64.28571428571429\n",
            "acc is  97.61904761904762\n",
            "acc is  73.80952380952381\n",
            "Confusion matrix is \n",
            "[[ 8  0  5]\n",
            " [ 1 14  0]\n",
            " [ 0  0 14]]\n",
            "Overall accuracy is  85.71428571428571\n",
            "accuracy of class 1 is  61.53846153846154\n",
            "accuracy of class 2 is  93.33333333333333\n",
            "accuracy of class 3 is  100.0\n"
          ]
        }
      ]
    },
    {
      "cell_type": "code",
      "metadata": {
        "colab": {
          "base_uri": "https://localhost:8080/"
        },
        "id": "tBCaYtql4ARx",
        "outputId": "f73c0e54-b26c-46d9-f0ae-0eeaa107ea1a"
      },
      "source": [
        "y_pred_all,acc_arr=one_vs_one('rbf',0)"
      ],
      "execution_count": 57,
      "outputs": [
        {
          "output_type": "stream",
          "name": "stdout",
          "text": [
            "acc is  82.14285714285714\n",
            "acc is  67.85714285714286\n",
            "acc is  100.0\n"
          ]
        }
      ]
    },
    {
      "cell_type": "code",
      "metadata": {
        "colab": {
          "base_uri": "https://localhost:8080/"
        },
        "id": "4OetycKFzURR",
        "outputId": "afa69c63-1a65-4ef5-9955-8c4c1a16dfc4"
      },
      "source": [
        "k_3=kernel_poly(x_tr,3)\n",
        "perform_one_vs_all(k_3)"
      ],
      "execution_count": 50,
      "outputs": [
        {
          "output_type": "stream",
          "name": "stdout",
          "text": [
            "acc is  64.28571428571429\n",
            "acc is  97.61904761904762\n",
            "acc is  92.85714285714286\n",
            "Confusion matrix is \n",
            "[[10  0  3]\n",
            " [ 5 10  0]\n",
            " [ 0  0 14]]\n",
            "Overall accuracy is  80.95238095238095\n",
            "accuracy of class 1 is  76.92307692307693\n",
            "accuracy of class 2 is  66.66666666666666\n",
            "accuracy of class 3 is  100.0\n"
          ]
        }
      ]
    },
    {
      "cell_type": "code",
      "metadata": {
        "colab": {
          "base_uri": "https://localhost:8080/"
        },
        "id": "-uFX1nnY0FN-",
        "outputId": "21de787b-fcfd-4444-bb6d-55440d6d104f"
      },
      "source": [
        "y_pred_all,acc_arr=one_vs_one('poly',3)"
      ],
      "execution_count": 51,
      "outputs": [
        {
          "output_type": "stream",
          "name": "stdout",
          "text": [
            "acc is  82.14285714285714\n",
            "acc is  60.71428571428571\n",
            "acc is  100.0\n"
          ]
        }
      ]
    },
    {
      "cell_type": "code",
      "metadata": {
        "colab": {
          "base_uri": "https://localhost:8080/"
        },
        "id": "UNRYCXD33GWG",
        "outputId": "dfbe7330-1860-48c1-b832-7e69ea56e07f"
      },
      "source": [
        "k_5=kernel_poly(x_tr,5)\n",
        "perform_one_vs_all(k_5)"
      ],
      "execution_count": 52,
      "outputs": [
        {
          "output_type": "stream",
          "name": "stdout",
          "text": [
            "acc is  64.28571428571429\n",
            "acc is  97.61904761904762\n",
            "acc is  73.80952380952381\n",
            "Confusion matrix is \n",
            "[[ 8  0  5]\n",
            " [ 1 14  0]\n",
            " [ 0  0 14]]\n",
            "Overall accuracy is  85.71428571428571\n",
            "accuracy of class 1 is  61.53846153846154\n",
            "accuracy of class 2 is  93.33333333333333\n",
            "accuracy of class 3 is  100.0\n"
          ]
        }
      ]
    },
    {
      "cell_type": "code",
      "metadata": {
        "colab": {
          "base_uri": "https://localhost:8080/"
        },
        "id": "0rQjAcIj3Ilq",
        "outputId": "813e1cc2-a82b-413f-9548-72eb73d74ac1"
      },
      "source": [
        "y_pred_all,acc_arr=one_vs_one('poly',5)"
      ],
      "execution_count": 54,
      "outputs": [
        {
          "output_type": "stream",
          "name": "stdout",
          "text": [
            "acc is  82.14285714285714\n",
            "acc is  67.85714285714286\n",
            "acc is  100.0\n"
          ]
        }
      ]
    },
    {
      "cell_type": "markdown",
      "metadata": {
        "id": "1hxG3KoYLy2x"
      },
      "source": [
        "Q9. Implement a multi-channel 1D deep CNN architecture (as shown in Fig. 1) for the seven-class classification task. The input and the class labels are given in. mat file format. There is a total of 17160 number of instances present in both input and class-label data files. The input data for each instance is a multichannel time series (12-channel) with size as (12 ×800). The class label for each multichannel time series instance is given in the class_label.mat file. You can select the training and test instances using hold-out cross-validation (70% training, 10% validation, and 20% testing). The architecture of the multi-channel deep CNN is given as follows. The number of filters, length of each filter, and number of neurons in the fully connected layers are shown in the following figure. Evaluate individual accuracy and overall accuracy. (Packages such as Scikitlearn, keras, tensorflow, pytorch etc. are allowed)"
      ]
    },
    {
      "cell_type": "code",
      "metadata": {
        "id": "dM_jKIZbL1oU"
      },
      "source": [
        "import numpy as np\n",
        "import pandas as pd\n",
        "import math\n",
        "import keras\n",
        "import scipy\n",
        "import matplotlib.pyplot as plt\n",
        "\n",
        "from keras.models import Sequential\n",
        "from keras.layers import Dense\n",
        "from keras.layers import Flatten\n",
        "from keras.layers import Dropout\n",
        "from keras.layers.convolutional import Conv1D\n",
        "from keras.layers.convolutional import MaxPooling1D\n",
        "from keras import backend as K\n",
        "\n",
        "import sklearn\n",
        "from sklearn.metrics import confusion_matrix\n",
        "\n",
        "import tensorflow as tf"
      ],
      "execution_count": null,
      "outputs": []
    },
    {
      "cell_type": "code",
      "metadata": {
        "id": "RYS_yfaZL8YS"
      },
      "source": [
        "from scipy.io import loadmat\n",
        "inp=loadmat('/content/drive/My Drive/nnfl_assignment_2_data/input.mat')\n",
        "\n",
        "class_labels=loadmat('/content/drive/My Drive/nnfl_assignment_2_data/class_label.mat')\n",
        "\n",
        "indices=np.arange(0,len(inp['x'][0]),1)\n",
        "np.random.shuffle(indices)"
      ],
      "execution_count": null,
      "outputs": []
    },
    {
      "cell_type": "code",
      "metadata": {
        "id": "BSAIMUriMBCq"
      },
      "source": [
        "def model_define():\n",
        "  model=Sequential()\n",
        "  model.add(Conv1D(filters=20,kernel_size=7,activation='relu',input_shape=(800,12)))\n",
        "  model.add(MaxPooling1D(pool_size=3,strides=3))\n",
        "  model.add(Conv1D(filters=60,kernel_size=7,activation='relu'))\n",
        "  model.add(Dropout(0.7))\n",
        "  model.add(MaxPooling1D(pool_size=3,strides=3))\n",
        "  model.add(Conv1D(filters=120,kernel_size=7,activation='relu'))\n",
        "  model.add(Conv1D(filters=120,kernel_size=7,activation='relu'))\n",
        "  model.add(Flatten())\n",
        "  model.add(Dense(2000,activation='relu'))\n",
        "  model.add(Dense(700,activation='relu'))\n",
        "  model.add(Dense(50,activation='relu'))\n",
        "  model.add(Dense(7,activation='sigmoid'))\n",
        "  return model"
      ],
      "execution_count": null,
      "outputs": []
    },
    {
      "cell_type": "code",
      "metadata": {
        "id": "JrzRKVT-MXz1"
      },
      "source": [
        "K.clear_session()\n",
        "model=model_define()"
      ],
      "execution_count": null,
      "outputs": []
    },
    {
      "cell_type": "code",
      "metadata": {
        "id": "zf9fREepMaRY"
      },
      "source": [
        "def divide_tr_va_te(x,y):\n",
        "  x_tr=[]\n",
        "  x_va=[]\n",
        "  x_te=[]\n",
        "\n",
        "  y_tr=[]\n",
        "  y_va=[]\n",
        "  y_te=[]\n",
        "\n",
        "  for i in range(len(indices)):\n",
        "    index=indices[i]\n",
        "    if i<math.floor(0.7*x.shape[0]):\n",
        "      x_tr.append(x[index])\n",
        "      y_tr.append(y[index])\n",
        "\n",
        "    elif i>math.floor(0.7*x.shape[0]) and i<math.floor(0.8*x.shape[0]):\n",
        "      x_va.append(x[index])\n",
        "      y_va.append(y[index])\n",
        "\n",
        "    else:\n",
        "      x_te.append(x[index])\n",
        "      y_te.append(y[index])\n",
        "  return np.array(x_tr),np.array(x_va),np.array(x_te),np.array(y_tr),np.array(y_va),np.array(y_te)\n",
        "\n",
        "x_tr,x_va,x_te,y_tr,y_va,y_te=divide_tr_va_te(inp['x'].reshape((17160,1)),class_labels['y'])"
      ],
      "execution_count": null,
      "outputs": []
    },
    {
      "cell_type": "code",
      "metadata": {
        "id": "8527UaXkMkQZ"
      },
      "source": [
        "y_tr_hot=np.zeros((y_tr.shape[0],7))\n",
        "for i in range(y_tr.shape[0]):\n",
        "  y_tr_hot[i][y_tr[i]-1]=1\n",
        "\n",
        "y_va_hot=np.zeros((y_va.shape[0],7))\n",
        "for i in range(y_va.shape[0]):\n",
        "  y_va_hot[i][y_va[i]-1]=1\n",
        "\n",
        "y_te_hot=np.zeros((np.array(y_te).shape[0],7))\n",
        "for i in range(np.array(y_te).shape[0]):\n",
        "  label=y_te[i]\n",
        "  y_te_hot[i][int(label)-1]=1\n",
        "\n",
        "arr=np.ndarray((len(x_tr),800,12))\n",
        "for i in range(len(arr)):\n",
        "  arr[i]=np.array(list(x_tr[i]),dtype=float).reshape((800,12))\n",
        "\n",
        "arr_va=np.ndarray((len(x_va),800,12))\n",
        "for i in range(len(arr_va)):\n",
        "  arr_va[i]=np.array(list(x_va[i]),dtype=float).reshape((800,12))\n",
        "\n",
        "arr_te=np.ndarray((len(x_te),800,12))\n",
        "for i in range(len(arr_te)):\n",
        "  arr_te[i]=np.array(list(x_te[i]),dtype=float).reshape((800,12))"
      ],
      "execution_count": null,
      "outputs": []
    },
    {
      "cell_type": "code",
      "metadata": {
        "colab": {
          "base_uri": "https://localhost:8080/"
        },
        "id": "YbHweQp8MtmP",
        "outputId": "0cd15350-dee5-472b-89f2-98795ee051e1"
      },
      "source": [
        "model.compile(loss='categorical_crossentropy',optimizer=tf.keras.optimizers.Adam(learning_rate=0.00004),metrics=['accuracy'])\n",
        "history=model.fit(arr,y_tr_hot,validation_data=(arr_va,y_va_hot),epochs=20,batch_size=1144)"
      ],
      "execution_count": null,
      "outputs": [
        {
          "output_type": "stream",
          "name": "stdout",
          "text": [
            "Epoch 1/20\n",
            "11/11 [==============================] - 63s 6s/step - loss: 1.8384 - accuracy: 0.2745 - val_loss: 1.7670 - val_accuracy: 0.4268\n",
            "Epoch 2/20\n",
            "11/11 [==============================] - 61s 6s/step - loss: 1.5137 - accuracy: 0.4798 - val_loss: 1.4518 - val_accuracy: 0.6560\n",
            "Epoch 3/20\n",
            "11/11 [==============================] - 61s 6s/step - loss: 1.0969 - accuracy: 0.6484 - val_loss: 1.0784 - val_accuracy: 0.7662\n",
            "Epoch 4/20\n",
            "11/11 [==============================] - 61s 6s/step - loss: 0.7432 - accuracy: 0.7686 - val_loss: 0.7439 - val_accuracy: 0.9009\n",
            "Epoch 5/20\n",
            "11/11 [==============================] - 61s 6s/step - loss: 0.4831 - accuracy: 0.8649 - val_loss: 0.5189 - val_accuracy: 0.9603\n",
            "Epoch 6/20\n",
            "11/11 [==============================] - 61s 6s/step - loss: 0.3034 - accuracy: 0.9297 - val_loss: 0.3455 - val_accuracy: 0.9913\n",
            "Epoch 7/20\n",
            "11/11 [==============================] - 60s 6s/step - loss: 0.1938 - accuracy: 0.9674 - val_loss: 0.2401 - val_accuracy: 1.0000\n",
            "Epoch 8/20\n",
            "11/11 [==============================] - 61s 6s/step - loss: 0.1235 - accuracy: 0.9863 - val_loss: 0.1667 - val_accuracy: 1.0000\n",
            "Epoch 9/20\n",
            "11/11 [==============================] - 61s 5s/step - loss: 0.0900 - accuracy: 0.9913 - val_loss: 0.1268 - val_accuracy: 1.0000\n",
            "Epoch 10/20\n",
            "11/11 [==============================] - 60s 5s/step - loss: 0.0628 - accuracy: 0.9939 - val_loss: 0.0933 - val_accuracy: 1.0000\n",
            "Epoch 11/20\n",
            "11/11 [==============================] - 62s 6s/step - loss: 0.0439 - accuracy: 0.9971 - val_loss: 0.0765 - val_accuracy: 1.0000\n",
            "Epoch 12/20\n",
            "11/11 [==============================] - 60s 5s/step - loss: 0.0320 - accuracy: 0.9985 - val_loss: 0.0614 - val_accuracy: 1.0000\n",
            "Epoch 13/20\n",
            "11/11 [==============================] - 60s 5s/step - loss: 0.0255 - accuracy: 0.9991 - val_loss: 0.0508 - val_accuracy: 1.0000\n",
            "Epoch 14/20\n",
            "11/11 [==============================] - 60s 5s/step - loss: 0.0210 - accuracy: 0.9989 - val_loss: 0.0442 - val_accuracy: 1.0000\n",
            "Epoch 15/20\n",
            "11/11 [==============================] - 60s 5s/step - loss: 0.0177 - accuracy: 0.9993 - val_loss: 0.0377 - val_accuracy: 1.0000\n",
            "Epoch 16/20\n",
            "11/11 [==============================] - 61s 6s/step - loss: 0.0154 - accuracy: 0.9989 - val_loss: 0.0330 - val_accuracy: 1.0000\n",
            "Epoch 17/20\n",
            "11/11 [==============================] - 60s 5s/step - loss: 0.0131 - accuracy: 0.9993 - val_loss: 0.0302 - val_accuracy: 1.0000\n",
            "Epoch 18/20\n",
            "11/11 [==============================] - 61s 6s/step - loss: 0.0109 - accuracy: 0.9996 - val_loss: 0.0277 - val_accuracy: 1.0000\n",
            "Epoch 19/20\n",
            "11/11 [==============================] - 60s 5s/step - loss: 0.0101 - accuracy: 0.9994 - val_loss: 0.0249 - val_accuracy: 1.0000\n",
            "Epoch 20/20\n",
            "11/11 [==============================] - 60s 5s/step - loss: 0.0090 - accuracy: 0.9997 - val_loss: 0.0218 - val_accuracy: 1.0000\n"
          ]
        }
      ]
    },
    {
      "cell_type": "code",
      "metadata": {
        "colab": {
          "base_uri": "https://localhost:8080/",
          "height": 295
        },
        "id": "OagFvAjHMwwx",
        "outputId": "a6834134-a296-4696-dad6-4f5c574c81ef"
      },
      "source": [
        "plt.plot(history.history['accuracy'])\n",
        "plt.plot(history.history['val_accuracy'])\n",
        "plt.title('Model Accuracy')\n",
        "plt.ylabel('accuracy')\n",
        "plt.xlabel('epoch')\n",
        "plt.legend(['train', 'validation'])\n",
        "plt.show()"
      ],
      "execution_count": null,
      "outputs": [
        {
          "output_type": "display_data",
          "data": {
            "image/png": "[encoded data removed]",
            "text/plain": [
              "<Figure size 432x288 with 1 Axes>"
            ]
          },
          "metadata": {
            "needs_background": "light"
          }
        }
      ]
    },
    {
      "cell_type": "code",
      "metadata": {
        "colab": {
          "base_uri": "https://localhost:8080/"
        },
        "id": "Y8NTv329M09Y",
        "outputId": "8d89074f-ca28-47c1-a5f6-c02a42fc45ba"
      },
      "source": [
        "test_loss,test_acc=model.evaluate(arr_te,np.array(y_te_hot),verbose=0)\n",
        "print('accuracy : ',test_acc)\n",
        "\n",
        "predict_x=model.predict(arr_te)\n",
        "y_pred=np.argmax(predict_x,axis=1)+1\n",
        "\n",
        "cm=confusion_matrix(y_te,y_pred.reshape((len(y_pred),1)))\n",
        "print('confusion matrix is ')\n",
        "print(cm)"
      ],
      "execution_count": null,
      "outputs": [
        {
          "output_type": "stream",
          "name": "stdout",
          "text": [
            "accuracy :  1.0\n",
            "confusion matrix is \n",
            "[[561   0   0   0   0   0   0]\n",
            " [  0 363   0   0   0   0   0]\n",
            " [  0   0 557   0   0   0   0]\n",
            " [  0   0   0 324   0   0   0]\n",
            " [  0   0   0   0 602   0   0]\n",
            " [  0   0   0   0   0 638   0]\n",
            " [  0   0   0   0   0   0 388]]\n"
          ]
        }
      ]
    },
    {
      "cell_type": "code",
      "metadata": {
        "colab": {
          "base_uri": "https://localhost:8080/"
        },
        "id": "MfYzjq6rNLcz",
        "outputId": "b2d3f748-98d7-457f-a598-78ac7ac080df"
      },
      "source": [
        "print('Overall accuracy :',(cm[0][0]+cm[1][1]+cm[2][2]+cm[3][3]+cm[4][4]+cm[5][5]+cm[6][6])/len(arr_te)*100)\n",
        "for i in range(7):\n",
        "  print(f'Accuracy of class {i+1} is :',cm[i][i]/np.sum(cm[i])*100)"
      ],
      "execution_count": null,
      "outputs": [
        {
          "output_type": "stream",
          "name": "stdout",
          "text": [
            "Overall accuracy : 100.0\n",
            "Accuracy of class 1 is : 100.0\n",
            "Accuracy of class 2 is : 100.0\n",
            "Accuracy of class 3 is : 100.0\n",
            "Accuracy of class 4 is : 100.0\n",
            "Accuracy of class 5 is : 100.0\n",
            "Accuracy of class 6 is : 100.0\n",
            "Accuracy of class 7 is : 100.0\n"
          ]
        }
      ]
    },
    {
      "cell_type": "code",
      "metadata": {
        "id": "FPc0WfuSTjE4"
      },
      "source": [
        ""
      ],
      "execution_count": null,
      "outputs": []
    }
  ]
}