{
  "nbformat": 4,
  "nbformat_minor": 0,
  "metadata": {
    "colab": {
      "name": "ass1.ipynb",
      "provenance": []
    },
    "kernelspec": {
      "name": "python3",
      "display_name": "Python 3"
    },
    "language_info": {
      "name": "python"
    }
  },
  "cells": [
    {
      "cell_type": "markdown",
      "metadata": {
        "id": "6LLvwhggS60H"
      },
      "source": [
        "## **Question 1**"
      ]
    },
    {
      "cell_type": "code",
      "metadata": {
        "id": "3MwQ8aTMS-2K"
      },
      "source": [
        "import numpy as np\n",
        "import pandas as pd"
      ],
      "execution_count": 1,
      "outputs": []
    },
    {
      "cell_type": "code",
      "metadata": {
        "id": "-STFjyKUTw-Z"
      },
      "source": [
        "df=pd.read_excel('data_q1.xlsx',usecols=(0,1))\n",
        "#df.head()"
      ],
      "execution_count": 2,
      "outputs": []
    },
    {
      "cell_type": "code",
      "metadata": {
        "id": "jdRjSfG9UTdQ"
      },
      "source": [
        "dfY=pd.read_excel('data_q1.xlsx',usecols=(2,2))\n",
        "#dfY.head()"
      ],
      "execution_count": 3,
      "outputs": []
    },
    {
      "cell_type": "code",
      "metadata": {
        "id": "PZcxRPV6UfxT"
      },
      "source": [
        "pX=df.max()\n",
        "df=df/pX\n",
        "\n",
        "pY=dfY.max()\n",
        "dfY=dfY/pY"
      ],
      "execution_count": 4,
      "outputs": []
    },
    {
      "cell_type": "code",
      "metadata": {
        "colab": {
          "base_uri": "https://localhost:8080/"
        },
        "id": "v4loaO0AU2PI",
        "outputId": "bc614dcf-0c9f-4987-9247-c746a10ea431"
      },
      "source": [
        "import math\n",
        "\n",
        "ones=np.ones((df.shape[0],1))\n",
        "df=np.hstack((ones,df))\n",
        "\n",
        "\n",
        "def divide_tr_te(df,dfY):\n",
        "  x=df[:math.floor(0.7*df.shape[0])]\n",
        "  x_te=df[math.floor(0.7*df.shape[0]):]\n",
        "\n",
        "  y=dfY[:math.floor(0.7*df.shape[0])]\n",
        "  y_te=dfY[math.floor(0.7*df.shape[0]):]\n",
        "  return x,x_te,y,y_te\n",
        "\n",
        "x,x_te,y,y_te=divide_tr_te(df,dfY)\n",
        "print(x.shape)\n",
        "print(x_te.shape)"
      ],
      "execution_count": 5,
      "outputs": [
        {
          "output_type": "stream",
          "name": "stdout",
          "text": [
            "(80, 3)\n",
            "(35, 3)\n"
          ]
        }
      ]
    },
    {
      "cell_type": "code",
      "metadata": {
        "colab": {
          "base_uri": "https://localhost:8080/"
        },
        "id": "EZUo1eGWVF7a",
        "outputId": "2cf6cfa3-54a8-4c03-cda4-0b2304ddcf6c"
      },
      "source": [
        "m=x.shape[0]\n",
        "m"
      ],
      "execution_count": 6,
      "outputs": [
        {
          "output_type": "execute_result",
          "data": {
            "text/plain": [
              "80"
            ]
          },
          "metadata": {},
          "execution_count": 6
        }
      ]
    },
    {
      "cell_type": "code",
      "metadata": {
        "colab": {
          "base_uri": "https://localhost:8080/"
        },
        "id": "MS-SKnoRVVHD",
        "outputId": "984208a4-c2d9-441d-ee40-96951c7e99cf"
      },
      "source": [
        "x.shape"
      ],
      "execution_count": 7,
      "outputs": [
        {
          "output_type": "execute_result",
          "data": {
            "text/plain": [
              "(80, 3)"
            ]
          },
          "metadata": {},
          "execution_count": 7
        }
      ]
    },
    {
      "cell_type": "code",
      "metadata": {
        "colab": {
          "base_uri": "https://localhost:8080/"
        },
        "id": "3trYD_CpViuw",
        "outputId": "b4e994dd-df95-4dce-c021-8706b778204f"
      },
      "source": [
        "y.shape"
      ],
      "execution_count": 8,
      "outputs": [
        {
          "output_type": "execute_result",
          "data": {
            "text/plain": [
              "(80, 1)"
            ]
          },
          "metadata": {},
          "execution_count": 8
        }
      ]
    },
    {
      "cell_type": "code",
      "metadata": {
        "id": "idjXhl6dYIUP"
      },
      "source": [
        "def initialise_w():\n",
        "  w=np.zeros((x.shape[1],1))\n",
        "  return w"
      ],
      "execution_count": 9,
      "outputs": []
    },
    {
      "cell_type": "code",
      "metadata": {
        "id": "hRHkYJfKY2KA"
      },
      "source": [
        "w=initialise_w()"
      ],
      "execution_count": 10,
      "outputs": []
    },
    {
      "cell_type": "code",
      "metadata": {
        "colab": {
          "base_uri": "https://localhost:8080/"
        },
        "id": "_DxTLSWOY32N",
        "outputId": "19618f93-b011-46c2-9a3e-464140868611"
      },
      "source": [
        "w"
      ],
      "execution_count": 11,
      "outputs": [
        {
          "output_type": "execute_result",
          "data": {
            "text/plain": [
              "array([[0.],\n",
              "       [0.],\n",
              "       [0.]])"
            ]
          },
          "metadata": {},
          "execution_count": 11
        }
      ]
    },
    {
      "cell_type": "code",
      "metadata": {
        "id": "-DZ7nWcGY5LK"
      },
      "source": [
        "def calc_cost_func(x,y,w):\n",
        "  j=1/(2*m) * np.sum(((x @ w) - y)**2)\n",
        "  return j"
      ],
      "execution_count": 12,
      "outputs": []
    },
    {
      "cell_type": "code",
      "metadata": {
        "colab": {
          "base_uri": "https://localhost:8080/"
        },
        "id": "z2FBFSbiZDo_",
        "outputId": "6166f318-df61-49bd-b470-d27759b74c30"
      },
      "source": [
        "calc_cost_func(x,y,w)"
      ],
      "execution_count": 13,
      "outputs": [
        {
          "output_type": "execute_result",
          "data": {
            "text/plain": [
              "Output    0.368679\n",
              "dtype: float64"
            ]
          },
          "metadata": {},
          "execution_count": 13
        }
      ]
    },
    {
      "cell_type": "code",
      "metadata": {
        "id": "HzmOZ6mhZPaK"
      },
      "source": [
        "def batch_gradient_descent(x,y,w,alpha,itr):\n",
        "  j_history=np.zeros((itr,1))\n",
        "  \n",
        "  for i in range(itr):\n",
        "    j_history[i]=calc_cost_func(x,y,w)\n",
        "    w=w - (alpha/m) * x.T @ (x @ w - y)\n",
        "\n",
        "  return (j_history,w)"
      ],
      "execution_count": 14,
      "outputs": []
    },
    {
      "cell_type": "code",
      "metadata": {
        "id": "sM9DGw7vZwJH"
      },
      "source": [
        "w=initialise_w()\n",
        "j_history,w=batch_gradient_descent(x,y,w,0.1,100)"
      ],
      "execution_count": 15,
      "outputs": []
    },
    {
      "cell_type": "code",
      "metadata": {
        "id": "9oUHbpJaaPwW"
      },
      "source": [
        "#j_history"
      ],
      "execution_count": 16,
      "outputs": []
    },
    {
      "cell_type": "code",
      "metadata": {
        "colab": {
          "base_uri": "https://localhost:8080/",
          "height": 143
        },
        "id": "yBfs0SBXaTF4",
        "outputId": "30032bb1-c881-40f9-a442-d3b1560bad23"
      },
      "source": [
        "w"
      ],
      "execution_count": 17,
      "outputs": [
        {
          "output_type": "execute_result",
          "data": {
            "text/html": [
              "<div>\n",
              "<style scoped>\n",
              "    .dataframe tbody tr th:only-of-type {\n",
              "        vertical-align: middle;\n",
              "    }\n",
              "\n",
              "    .dataframe tbody tr th {\n",
              "        vertical-align: top;\n",
              "    }\n",
              "\n",
              "    .dataframe thead th {\n",
              "        text-align: right;\n",
              "    }\n",
              "</style>\n",
              "<table border=\"1\" class=\"dataframe\">\n",
              "  <thead>\n",
              "    <tr style=\"text-align: right;\">\n",
              "      <th></th>\n",
              "      <th>Output</th>\n",
              "    </tr>\n",
              "  </thead>\n",
              "  <tbody>\n",
              "    <tr>\n",
              "      <th>0</th>\n",
              "      <td>0.386110</td>\n",
              "    </tr>\n",
              "    <tr>\n",
              "      <th>1</th>\n",
              "      <td>0.143719</td>\n",
              "    </tr>\n",
              "    <tr>\n",
              "      <th>2</th>\n",
              "      <td>0.412174</td>\n",
              "    </tr>\n",
              "  </tbody>\n",
              "</table>\n",
              "</div>"
            ],
            "text/plain": [
              "     Output\n",
              "0  0.386110\n",
              "1  0.143719\n",
              "2  0.412174"
            ]
          },
          "metadata": {},
          "execution_count": 17
        }
      ]
    },
    {
      "cell_type": "code",
      "metadata": {
        "colab": {
          "base_uri": "https://localhost:8080/",
          "height": 297
        },
        "id": "UQztgTq1abyL",
        "outputId": "4825251e-3c54-4a00-f079-c076cf22ca54"
      },
      "source": [
        "import matplotlib.pyplot as plt\n",
        "\n",
        "plt.plot(range(len(j_history)), j_history)\n",
        "plt.xlabel('Iteration number')\n",
        "plt.ylabel('Cost')"
      ],
      "execution_count": 18,
      "outputs": [
        {
          "output_type": "execute_result",
          "data": {
            "text/plain": [
              "Text(0, 0.5, 'Cost')"
            ]
          },
          "metadata": {},
          "execution_count": 18
        },
        {
          "output_type": "display_data",
          "data": {
            "image/png": "[encoded data removed]",
            "text/plain": [
              "<Figure size 432x288 with 1 Axes>"
            ]
          },
          "metadata": {
            "needs_background": "light"
          }
        }
      ]
    },
    {
      "cell_type": "code",
      "metadata": {
        "id": "TbsHSS1EgBVu"
      },
      "source": [
        "y_predicted=x_te @ w\n",
        "msq=np.sum((y_predicted-y_te)**2)/y_te.shape[0]"
      ],
      "execution_count": 19,
      "outputs": []
    },
    {
      "cell_type": "code",
      "metadata": {
        "colab": {
          "base_uri": "https://localhost:8080/"
        },
        "id": "MHiMsTQphYIS",
        "outputId": "54ded527-f5d4-4d2a-ac99-2d075ec15c10"
      },
      "source": [
        "msq"
      ],
      "execution_count": 20,
      "outputs": [
        {
          "output_type": "execute_result",
          "data": {
            "text/plain": [
              "Output    0.0\n",
              "dtype: float64"
            ]
          },
          "metadata": {},
          "execution_count": 20
        }
      ]
    },
    {
      "cell_type": "markdown",
      "metadata": {
        "id": "bWrMbohqs_nd"
      },
      "source": [
        "Stochastic Gradient Descent (SGD)"
      ]
    },
    {
      "cell_type": "code",
      "metadata": {
        "id": "bhmCWoUqhjZO"
      },
      "source": [
        "#stochastic gradient descent (SGD)\n",
        "\n",
        "import random\n",
        "\n",
        "def stochastic_gradient_descent(df,dfY,w,alpha,iter):\n",
        "  j_history=np.zeros((iter,1))\n",
        "  temp_df=np.copy(df)\n",
        "  for i in range(iter):\n",
        "    np.random.shuffle(temp_df)\n",
        "    index=random.randint(0,m-1)\n",
        "    x_temp=temp_df[index]\n",
        "    y_temp=dfY.iloc[index]\n",
        "    j_history[i]=calc_cost_func(x,y,w)\n",
        "    temp=(x_temp @ w - y_temp)\n",
        "    w=w-alpha*(x_temp.reshape(-1,1) * temp[0])\n",
        "  return j_history,w"
      ],
      "execution_count": 21,
      "outputs": []
    },
    {
      "cell_type": "code",
      "metadata": {
        "colab": {
          "base_uri": "https://localhost:8080/"
        },
        "id": "8cfAkwq3jj8J",
        "outputId": "a58efe65-2a9d-4dd5-d3b2-97cdac82f6b3"
      },
      "source": [
        "dfY.iloc[10,0]"
      ],
      "execution_count": 22,
      "outputs": [
        {
          "output_type": "execute_result",
          "data": {
            "text/plain": [
              "1.0"
            ]
          },
          "metadata": {},
          "execution_count": 22
        }
      ]
    },
    {
      "cell_type": "code",
      "metadata": {
        "colab": {
          "base_uri": "https://localhost:8080/"
        },
        "id": "ekvF9Dj8mYLW",
        "outputId": "c3188b7d-c0d7-4fa1-a1af-e5d0fa9e2788"
      },
      "source": [
        "w=initialise_w()\n",
        "w"
      ],
      "execution_count": 23,
      "outputs": [
        {
          "output_type": "execute_result",
          "data": {
            "text/plain": [
              "array([[0.],\n",
              "       [0.],\n",
              "       [0.]])"
            ]
          },
          "metadata": {},
          "execution_count": 23
        }
      ]
    },
    {
      "cell_type": "code",
      "metadata": {
        "id": "NVwSaGwyjnEC"
      },
      "source": [
        "w=initialise_w()\n",
        "j_history,w=stochastic_gradient_descent(df,dfY,w,0.1,100)\n",
        "# j_history"
      ],
      "execution_count": 24,
      "outputs": []
    },
    {
      "cell_type": "code",
      "metadata": {
        "colab": {
          "base_uri": "https://localhost:8080/",
          "height": 297
        },
        "id": "DAcVxWghkX6j",
        "outputId": "aae84e28-d264-4b0f-d3f1-a8322ab9ecca"
      },
      "source": [
        "plt.plot(range(len(j_history)), j_history)\n",
        "plt.xlabel('Iteration number')\n",
        "plt.ylabel('Cost')"
      ],
      "execution_count": 25,
      "outputs": [
        {
          "output_type": "execute_result",
          "data": {
            "text/plain": [
              "Text(0, 0.5, 'Cost')"
            ]
          },
          "metadata": {},
          "execution_count": 25
        },
        {
          "output_type": "display_data",
          "data": {
            "image/png": "[encoded data removed]",
            "text/plain": [
              "<Figure size 432x288 with 1 Axes>"
            ]
          },
          "metadata": {
            "needs_background": "light"
          }
        }
      ]
    },
    {
      "cell_type": "markdown",
      "metadata": {
        "id": "GXa0BwoH2hhh"
      },
      "source": [
        "mini-batch gradient descent (MBGD)"
      ]
    },
    {
      "cell_type": "code",
      "metadata": {
        "id": "uwL3DPIsvMJp"
      },
      "source": [
        "def mini_batch_gradient_descent(tr,w,alpha,itr,nb):\n",
        "  \n",
        "\n",
        "  j_history=np.zeros((itr,1))\n",
        "  temp_tr=np.copy(tr)\n",
        "  for i in range(itr):\n",
        "    np.random.shuffle(temp_tr)\n",
        "    sub_tr=temp_tr[:nb]\n",
        "    x2,y2=np.hsplit(sub_tr,[sub_tr.shape[1]-1])\n",
        "    # print(f\"x2 {x2.shape} y2 {y2.shape}\")\n",
        "    j_history[i]=calc_cost_func(x2,y2,w)\n",
        "    w=w - (alpha/m) * x2.T @ (x2 @ w - y2)\n",
        "\n",
        "  return (j_history,w)"
      ],
      "execution_count": 26,
      "outputs": []
    },
    {
      "cell_type": "code",
      "metadata": {
        "id": "cX-UAhtgyZ4E"
      },
      "source": [
        "w=initialise_w()\n",
        "def data_for_mbgd():\n",
        "  full=pd.read_excel('data_q1.xlsx')\n",
        "  ones=np.ones((full.shape[0],1))\n",
        "  full=np.hstack((ones,full))\n",
        "  tr=full[:math.floor(0.7*df.shape[0])]\n",
        "  te=full[math.floor(0.7*df.shape[0]):]\n",
        "  return tr,te\n",
        "\n",
        "tr,te=data_for_mbgd()\n",
        "# x2,y2=np.hsplit(tr,[tr.shape[1]-1])\n",
        "# print(f\"x2 {x2.shape} y2 {y2.shape}\")\n",
        "j_history,w=mini_batch_gradient_descent(tr,w,0.1,100,20)\n",
        "# j_history"
      ],
      "execution_count": 27,
      "outputs": []
    },
    {
      "cell_type": "code",
      "metadata": {
        "colab": {
          "base_uri": "https://localhost:8080/",
          "height": 297
        },
        "id": "hI348ihUyuLL",
        "outputId": "81e8bf70-45c4-4cd8-eec4-7e4c175bfdd9"
      },
      "source": [
        "plt.plot(range(len(j_history)), j_history)\n",
        "plt.xlabel('Iteration number')\n",
        "plt.ylabel('Cost')"
      ],
      "execution_count": 28,
      "outputs": [
        {
          "output_type": "execute_result",
          "data": {
            "text/plain": [
              "Text(0, 0.5, 'Cost')"
            ]
          },
          "metadata": {},
          "execution_count": 28
        },
        {
          "output_type": "display_data",
          "data": {
            "image/png": "[encoded data removed]",
            "text/plain": [
              "<Figure size 432x288 with 1 Axes>"
            ]
          },
          "metadata": {
            "needs_background": "light"
          }
        }
      ]
    },
    {
      "cell_type": "code",
      "metadata": {
        "id": "KU1YOAON2Z0J"
      },
      "source": [
        ""
      ],
      "execution_count": 28,
      "outputs": []
    }
  ]
}